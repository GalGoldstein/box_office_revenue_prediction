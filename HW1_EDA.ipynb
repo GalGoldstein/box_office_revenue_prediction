{
  "nbformat": 4,
  "nbformat_minor": 0,
  "metadata": {
    "kernelspec": {
      "display_name": "Python 3",
      "language": "python",
      "name": "python3"
    },
    "language_info": {
      "codemirror_mode": {
        "name": "ipython",
        "version": 3
      },
      "file_extension": ".py",
      "mimetype": "text/x-python",
      "name": "python",
      "nbconvert_exporter": "python",
      "pygments_lexer": "ipython3",
      "version": "3.7.3"
    },
    "colab": {
      "name": "HW1_EDA.ipynb",
      "provenance": [],
      "collapsed_sections": [],
      "toc_visible": true
    }
  },
  "cells": [
    {
      "cell_type": "code",
      "metadata": {
        "id": "uU8wuj7oHlvS",
        "colab": {
          "base_uri": "https://localhost:8080/"
        },
        "outputId": "69a7489f-bc33-4c28-98cf-caf7beb4f964"
      },
      "source": [
        "!pip install https://github.com/pandas-profiling/pandas-profiling/archive/master.zip"
      ],
      "execution_count": null,
      "outputs": [
        {
          "output_type": "stream",
          "text": [
            "Collecting https://github.com/pandas-profiling/pandas-profiling/archive/master.zip\n",
            "\u001b[?25l  Downloading https://github.com/pandas-profiling/pandas-profiling/archive/master.zip\n",
            "\u001b[K     | 38.6MB 604kB/s\n",
            "\u001b[?25hRequirement already satisfied: joblib in /usr/local/lib/python3.7/dist-packages (from pandas-profiling==3.0.0) (1.0.1)\n",
            "Requirement already satisfied: scipy>=1.4.1 in /usr/local/lib/python3.7/dist-packages (from pandas-profiling==3.0.0) (1.4.1)\n",
            "Requirement already satisfied: pandas!=1.0.0,!=1.0.1,!=1.0.2,!=1.1.0,>=0.25.3 in /usr/local/lib/python3.7/dist-packages (from pandas-profiling==3.0.0) (1.1.5)\n",
            "Requirement already satisfied: matplotlib>=3.2.0 in /usr/local/lib/python3.7/dist-packages (from pandas-profiling==3.0.0) (3.2.2)\n",
            "Collecting pydantic>=1.8.1\n",
            "\u001b[?25l  Downloading https://files.pythonhosted.org/packages/9f/f2/2d5425efe57f6c4e06cbe5e587c1fd16929dcf0eb90bd4d3d1e1c97d1151/pydantic-1.8.2-cp37-cp37m-manylinux2014_x86_64.whl (10.1MB)\n",
            "\u001b[K     |████████████████████████████████| 10.1MB 4.0MB/s \n",
            "\u001b[?25hCollecting PyYAML>=5.0.0\n",
            "\u001b[?25l  Downloading https://files.pythonhosted.org/packages/7a/a5/393c087efdc78091afa2af9f1378762f9821c9c1d7a22c5753fb5ac5f97a/PyYAML-5.4.1-cp37-cp37m-manylinux1_x86_64.whl (636kB)\n",
            "\u001b[K     |████████████████████████████████| 645kB 30.0MB/s \n",
            "\u001b[?25hRequirement already satisfied: jinja2>=2.11.1 in /usr/local/lib/python3.7/dist-packages (from pandas-profiling==3.0.0) (2.11.3)\n",
            "Collecting visions[type_image_path]==0.7.1\n",
            "\u001b[?25l  Downloading https://files.pythonhosted.org/packages/80/96/01e4ba22cef96ae5035dbcf0451c2f4f859f8f17393b98406b23f0034279/visions-0.7.1-py3-none-any.whl (102kB)\n",
            "\u001b[K     |████████████████████████████████| 112kB 45.5MB/s \n",
            "\u001b[?25hRequirement already satisfied: numpy>=1.16.0 in /usr/local/lib/python3.7/dist-packages (from pandas-profiling==3.0.0) (1.19.5)\n",
            "Collecting htmlmin>=0.1.12\n",
            "  Downloading https://files.pythonhosted.org/packages/b3/e7/fcd59e12169de19f0131ff2812077f964c6b960e7c09804d30a7bf2ab461/htmlmin-0.1.12.tar.gz\n",
            "Requirement already satisfied: missingno>=0.4.2 in /usr/local/lib/python3.7/dist-packages (from pandas-profiling==3.0.0) (0.4.2)\n",
            "Collecting phik>=0.11.1\n",
            "\u001b[?25l  Downloading https://files.pythonhosted.org/packages/b7/ce/193e8ddf62d4be643b9b4b20e8e9c63b2f6a20f92778c0410c629f89bdaa/phik-0.11.2.tar.gz (1.1MB)\n",
            "\u001b[K     |████████████████████████████████| 1.1MB 19.7MB/s \n",
            "\u001b[?25hCollecting tangled-up-in-unicode==0.1.0\n",
            "\u001b[?25l  Downloading https://files.pythonhosted.org/packages/93/3e/cb354fb2097fcf2fd5b5a342b10ae2a6e9363ba435b64e3e00c414064bc7/tangled_up_in_unicode-0.1.0-py3-none-any.whl (3.1MB)\n",
            "\u001b[K     |████████████████████████████████| 3.1MB 31.1MB/s \n",
            "\u001b[?25hCollecting requests>=2.24.0\n",
            "\u001b[?25l  Downloading https://files.pythonhosted.org/packages/29/c1/24814557f1d22c56d50280771a17307e6bf87b70727d975fd6b2ce6b014a/requests-2.25.1-py2.py3-none-any.whl (61kB)\n",
            "\u001b[K     |████████████████████████████████| 61kB 5.3MB/s \n",
            "\u001b[?25hCollecting tqdm>=4.48.2\n",
            "\u001b[?25l  Downloading https://files.pythonhosted.org/packages/72/8a/34efae5cf9924328a8f34eeb2fdaae14c011462d9f0e3fcded48e1266d1c/tqdm-4.60.0-py2.py3-none-any.whl (75kB)\n",
            "\u001b[K     |████████████████████████████████| 81kB 6.3MB/s \n",
            "\u001b[?25hRequirement already satisfied: seaborn>=0.10.1 in /usr/local/lib/python3.7/dist-packages (from pandas-profiling==3.0.0) (0.11.1)\n",
            "Requirement already satisfied: pytz>=2017.2 in /usr/local/lib/python3.7/dist-packages (from pandas!=1.0.0,!=1.0.1,!=1.0.2,!=1.1.0,>=0.25.3->pandas-profiling==3.0.0) (2018.9)\n",
            "Requirement already satisfied: python-dateutil>=2.7.3 in /usr/local/lib/python3.7/dist-packages (from pandas!=1.0.0,!=1.0.1,!=1.0.2,!=1.1.0,>=0.25.3->pandas-profiling==3.0.0) (2.8.1)\n",
            "Requirement already satisfied: pyparsing!=2.0.4,!=2.1.2,!=2.1.6,>=2.0.1 in /usr/local/lib/python3.7/dist-packages (from matplotlib>=3.2.0->pandas-profiling==3.0.0) (2.4.7)\n",
            "Requirement already satisfied: cycler>=0.10 in /usr/local/lib/python3.7/dist-packages (from matplotlib>=3.2.0->pandas-profiling==3.0.0) (0.10.0)\n",
            "Requirement already satisfied: kiwisolver>=1.0.1 in /usr/local/lib/python3.7/dist-packages (from matplotlib>=3.2.0->pandas-profiling==3.0.0) (1.3.1)\n",
            "Requirement already satisfied: typing-extensions>=3.7.4.3 in /usr/local/lib/python3.7/dist-packages (from pydantic>=1.8.1->pandas-profiling==3.0.0) (3.7.4.3)\n",
            "Requirement already satisfied: MarkupSafe>=0.23 in /usr/local/lib/python3.7/dist-packages (from jinja2>=2.11.1->pandas-profiling==3.0.0) (2.0.0)\n",
            "Requirement already satisfied: bottleneck in /usr/local/lib/python3.7/dist-packages (from visions[type_image_path]==0.7.1->pandas-profiling==3.0.0) (1.3.2)\n",
            "Collecting multimethod==1.4\n",
            "  Downloading https://files.pythonhosted.org/packages/7a/d0/ce5ad0392aa12645b7ad91a5983d6b625b704b021d9cd48c587630c1a9ac/multimethod-1.4-py2.py3-none-any.whl\n",
            "Requirement already satisfied: networkx>=2.4 in /usr/local/lib/python3.7/dist-packages (from visions[type_image_path]==0.7.1->pandas-profiling==3.0.0) (2.5.1)\n",
            "Requirement already satisfied: attrs>=19.3.0 in /usr/local/lib/python3.7/dist-packages (from visions[type_image_path]==0.7.1->pandas-profiling==3.0.0) (21.2.0)\n",
            "Requirement already satisfied: Pillow; extra == \"type_image_path\" in /usr/local/lib/python3.7/dist-packages (from visions[type_image_path]==0.7.1->pandas-profiling==3.0.0) (7.1.2)\n",
            "Collecting imagehash; extra == \"type_image_path\"\n",
            "\u001b[?25l  Downloading https://files.pythonhosted.org/packages/8e/18/9dbb772b5ef73a3069c66bb5bf29b9fb4dd57af0d5790c781c3f559bcca6/ImageHash-4.2.0-py2.py3-none-any.whl (295kB)\n",
            "\u001b[K     |████████████████████████████████| 296kB 34.7MB/s \n",
            "\u001b[?25hRequirement already satisfied: idna<3,>=2.5 in /usr/local/lib/python3.7/dist-packages (from requests>=2.24.0->pandas-profiling==3.0.0) (2.10)\n",
            "Requirement already satisfied: chardet<5,>=3.0.2 in /usr/local/lib/python3.7/dist-packages (from requests>=2.24.0->pandas-profiling==3.0.0) (3.0.4)\n",
            "Requirement already satisfied: certifi>=2017.4.17 in /usr/local/lib/python3.7/dist-packages (from requests>=2.24.0->pandas-profiling==3.0.0) (2020.12.5)\n",
            "Requirement already satisfied: urllib3<1.27,>=1.21.1 in /usr/local/lib/python3.7/dist-packages (from requests>=2.24.0->pandas-profiling==3.0.0) (1.24.3)\n",
            "Requirement already satisfied: six>=1.5 in /usr/local/lib/python3.7/dist-packages (from python-dateutil>=2.7.3->pandas!=1.0.0,!=1.0.1,!=1.0.2,!=1.1.0,>=0.25.3->pandas-profiling==3.0.0) (1.15.0)\n",
            "Requirement already satisfied: decorator<5,>=4.3 in /usr/local/lib/python3.7/dist-packages (from networkx>=2.4->visions[type_image_path]==0.7.1->pandas-profiling==3.0.0) (4.4.2)\n",
            "Requirement already satisfied: PyWavelets in /usr/local/lib/python3.7/dist-packages (from imagehash; extra == \"type_image_path\"->visions[type_image_path]==0.7.1->pandas-profiling==3.0.0) (1.1.1)\n",
            "Building wheels for collected packages: pandas-profiling, htmlmin, phik\n",
            "  Building wheel for pandas-profiling (setup.py) ... \u001b[?25l\u001b[?25hdone\n",
            "  Created wheel for pandas-profiling: filename=pandas_profiling-3.0.0-py2.py3-none-any.whl size=248502 sha256=045486de59680fc0a2be0b2a46997b1fab4de514ca620746ea9a9e91ad109c46\n",
            "  Stored in directory: /tmp/pip-ephem-wheel-cache-5f5i4ap8/wheels/56/c2/dd/8d945b0443c35df7d5f62fa9e9ae105a2d8b286302b92e0109\n",
            "  Building wheel for htmlmin (setup.py) ... \u001b[?25l\u001b[?25hdone\n",
            "  Created wheel for htmlmin: filename=htmlmin-0.1.12-cp37-none-any.whl size=27085 sha256=18247dde8588421e2ec0f7e7c093fa45d253dd54679a7f806cf3ebb38adbfd4b\n",
            "  Stored in directory: /root/.cache/pip/wheels/43/07/ac/7c5a9d708d65247ac1f94066cf1db075540b85716c30255459\n",
            "  Building wheel for phik (setup.py) ... \u001b[?25l\u001b[?25hdone\n",
            "  Created wheel for phik: filename=phik-0.11.2-cp37-none-any.whl size=1107413 sha256=f48f99288944e5dadaf6baf20eec0e9988071de59d3c26528c236fcdf1254406\n",
            "  Stored in directory: /root/.cache/pip/wheels/c0/a3/b0/f27b1cfe32ea131a3715169132ff6d85653789e80e966c3bf6\n",
            "Successfully built pandas-profiling htmlmin phik\n",
            "\u001b[31mERROR: google-colab 1.0.0 has requirement requests~=2.23.0, but you'll have requests 2.25.1 which is incompatible.\u001b[0m\n",
            "\u001b[31mERROR: datascience 0.10.6 has requirement folium==0.2.1, but you'll have folium 0.8.3 which is incompatible.\u001b[0m\n",
            "\u001b[31mERROR: phik 0.11.2 has requirement scipy>=1.5.2, but you'll have scipy 1.4.1 which is incompatible.\u001b[0m\n",
            "Installing collected packages: pydantic, PyYAML, multimethod, tangled-up-in-unicode, imagehash, visions, htmlmin, phik, requests, tqdm, pandas-profiling\n",
            "  Found existing installation: PyYAML 3.13\n",
            "    Uninstalling PyYAML-3.13:\n",
            "      Successfully uninstalled PyYAML-3.13\n",
            "  Found existing installation: requests 2.23.0\n",
            "    Uninstalling requests-2.23.0:\n",
            "      Successfully uninstalled requests-2.23.0\n",
            "  Found existing installation: tqdm 4.41.1\n",
            "    Uninstalling tqdm-4.41.1:\n",
            "      Successfully uninstalled tqdm-4.41.1\n",
            "  Found existing installation: pandas-profiling 1.4.1\n",
            "    Uninstalling pandas-profiling-1.4.1:\n",
            "      Successfully uninstalled pandas-profiling-1.4.1\n",
            "Successfully installed PyYAML-5.4.1 htmlmin-0.1.12 imagehash-4.2.0 multimethod-1.4 pandas-profiling-3.0.0 phik-0.11.2 pydantic-1.8.2 requests-2.25.1 tangled-up-in-unicode-0.1.0 tqdm-4.60.0 visions-0.7.1\n"
          ],
          "name": "stdout"
        }
      ]
    },
    {
      "cell_type": "code",
      "metadata": {
        "colab": {
          "base_uri": "https://localhost:8080/"
        },
        "id": "o0to6eILka2m",
        "outputId": "b10bd2bd-a1c4-4748-98c0-00a1c5b7b1f5"
      },
      "source": [
        "!git clone https://github.com/GalGoldstein/box_office_revenue_prediction.git"
      ],
      "execution_count": null,
      "outputs": [
        {
          "output_type": "stream",
          "text": [
            "Cloning into 'box_office_revenue_prediction'...\n",
            "remote: Enumerating objects: 96, done.\u001b[K\n",
            "remote: Counting objects: 100% (96/96), done.\u001b[K\n",
            "remote: Compressing objects: 100% (66/66), done.\u001b[K\n",
            "remote: Total 96 (delta 58), reused 64 (delta 28), pack-reused 0\u001b[K\n",
            "Unpacking objects: 100% (96/96), done.\n"
          ],
          "name": "stdout"
        }
      ]
    },
    {
      "cell_type": "code",
      "metadata": {
        "colab": {
          "base_uri": "https://localhost:8080/"
        },
        "id": "WBevTrSDkhVB",
        "outputId": "5726efe3-7369-4dfa-9e3d-2c8003f29336"
      },
      "source": [
        "!unzip box_office_revenue_prediction/hw1_data.zip"
      ],
      "execution_count": null,
      "outputs": [
        {
          "output_type": "stream",
          "text": [
            "Archive:  box_office_revenue_prediction/hw1_data.zip\n",
            "  inflating: test.tsv                \n",
            "  inflating: train.tsv               \n",
            "  inflating: predict.py              \n"
          ],
          "name": "stdout"
        }
      ]
    },
    {
      "cell_type": "code",
      "metadata": {
        "id": "hbMJ-Ml1kYhU"
      },
      "source": [
        "import pandas as pd\n",
        "import ast\n",
        "import numpy as np\n",
        "import datetime\n",
        "import matplotlib.pyplot as plt\n",
        "import matplotlib as mpl\n",
        "import seaborn as sns\n",
        "from pandas_profiling import ProfileReport\n",
        "\n",
        "train = pd.read_csv('train.tsv', sep='\\t')\n",
        "train = train.set_index('id')\n",
        "columns_to_remove = ['backdrop_path', 'homepage', 'imdb_id', 'poster_path', 'production_countries', 'status', 'video','spoken_languages' ]\n",
        "textual_columns = ['original_title', 'overview', 'tagline', 'title', 'Keywords']"
      ],
      "execution_count": null,
      "outputs": []
    },
    {
      "cell_type": "code",
      "metadata": {
        "scrolled": true,
        "id": "srhbWLJokYhW",
        "colab": {
          "base_uri": "https://localhost:8080/",
          "height": 405
        },
        "outputId": "fac6352a-16a1-40db-8ede-6ef38fe607be"
      },
      "source": [
        "train.drop(columns_to_remove, inplace=True, axis=1)\n",
        "\n",
        "columns_to_dict = ['belongs_to_collection', 'genres', 'production_companies', 'Keywords', 'cast', 'crew']\n",
        "for col in columns_to_dict:\n",
        "    train[col] = train[col].apply(lambda x: ast.literal_eval(str(x)) if type(x) == str else x)\n",
        "\n",
        "textual_df = train[textual_columns]\n",
        "train.drop(textual_columns, inplace=True, axis=1)\n",
        "train['budget'].replace({0: np.nan}, inplace=True)\n",
        "train['runtime'].replace({0: np.nan}, inplace=True)\n",
        "train[\"release_date\"] = train[\"release_date\"].astype(\"datetime64\")\n",
        "train = train[['revenue', 'budget', 'popularity','runtime','vote_average','vote_count','release_date','original_language',\n",
        "              'belongs_to_collection','genres', 'production_companies','cast', 'crew']]\n",
        "train.head()"
      ],
      "execution_count": null,
      "outputs": [
        {
          "output_type": "execute_result",
          "data": {
            "text/html": [
              "<div>\n",
              "<style scoped>\n",
              "    .dataframe tbody tr th:only-of-type {\n",
              "        vertical-align: middle;\n",
              "    }\n",
              "\n",
              "    .dataframe tbody tr th {\n",
              "        vertical-align: top;\n",
              "    }\n",
              "\n",
              "    .dataframe thead th {\n",
              "        text-align: right;\n",
              "    }\n",
              "</style>\n",
              "<table border=\"1\" class=\"dataframe\">\n",
              "  <thead>\n",
              "    <tr style=\"text-align: right;\">\n",
              "      <th></th>\n",
              "      <th>revenue</th>\n",
              "      <th>budget</th>\n",
              "      <th>popularity</th>\n",
              "      <th>runtime</th>\n",
              "      <th>vote_average</th>\n",
              "      <th>vote_count</th>\n",
              "      <th>release_date</th>\n",
              "      <th>original_language</th>\n",
              "      <th>belongs_to_collection</th>\n",
              "      <th>genres</th>\n",
              "      <th>production_companies</th>\n",
              "      <th>cast</th>\n",
              "      <th>crew</th>\n",
              "    </tr>\n",
              "    <tr>\n",
              "      <th>id</th>\n",
              "      <th></th>\n",
              "      <th></th>\n",
              "      <th></th>\n",
              "      <th></th>\n",
              "      <th></th>\n",
              "      <th></th>\n",
              "      <th></th>\n",
              "      <th></th>\n",
              "      <th></th>\n",
              "      <th></th>\n",
              "      <th></th>\n",
              "      <th></th>\n",
              "      <th></th>\n",
              "    </tr>\n",
              "  </thead>\n",
              "  <tbody>\n",
              "    <tr>\n",
              "      <th>559</th>\n",
              "      <td>890871626</td>\n",
              "      <td>258000000.0</td>\n",
              "      <td>22.024</td>\n",
              "      <td>139.0</td>\n",
              "      <td>6.2</td>\n",
              "      <td>8180</td>\n",
              "      <td>2007-05-01</td>\n",
              "      <td>en</td>\n",
              "      <td>{'id': 556, 'name': 'Spider-Man Collection', '...</td>\n",
              "      <td>[{'id': 14, 'name': 'Fantasy'}, {'id': 28, 'na...</td>\n",
              "      <td>[{'id': 19551, 'logo_path': '/2WpWp9b108hizjHK...</td>\n",
              "      <td>[{'cast_id': 30, 'character': 'Peter Parker / ...</td>\n",
              "      <td>[{'credit_id': '52fe4252c3a36847f80151a5', 'de...</td>\n",
              "    </tr>\n",
              "    <tr>\n",
              "      <th>50719</th>\n",
              "      <td>154323</td>\n",
              "      <td>250000.0</td>\n",
              "      <td>4.756</td>\n",
              "      <td>88.0</td>\n",
              "      <td>4.3</td>\n",
              "      <td>68</td>\n",
              "      <td>1987-04-10</td>\n",
              "      <td>en</td>\n",
              "      <td>{'id': 256296, 'name': 'Silent Night, Deadly N...</td>\n",
              "      <td>[{'id': 35, 'name': 'Comedy'}, {'id': 27, 'nam...</td>\n",
              "      <td>[{'id': 18924, 'logo_path': None, 'name': 'Sil...</td>\n",
              "      <td>[{'cast_id': 1000, 'character': 'Ricky Caldwel...</td>\n",
              "      <td>[{'credit_id': '52fe47d4c3a36847f814a70f', 'de...</td>\n",
              "    </tr>\n",
              "    <tr>\n",
              "      <th>469062</th>\n",
              "      <td>176236</td>\n",
              "      <td>NaN</td>\n",
              "      <td>4.746</td>\n",
              "      <td>98.0</td>\n",
              "      <td>6.5</td>\n",
              "      <td>15</td>\n",
              "      <td>2018-07-27</td>\n",
              "      <td>en</td>\n",
              "      <td>NaN</td>\n",
              "      <td>[{'id': 99, 'name': 'Documentary'}]</td>\n",
              "      <td>[{'id': 88564, 'logo_path': '/pn3p12IC4Tb0K8re...</td>\n",
              "      <td>[{'cast_id': 1, 'character': 'Himself', 'credi...</td>\n",
              "      <td>[{'credit_id': '5980e931c3a3680cfb002d0e', 'de...</td>\n",
              "    </tr>\n",
              "    <tr>\n",
              "      <th>9003</th>\n",
              "      <td>14564027</td>\n",
              "      <td>1000000.0</td>\n",
              "      <td>13.828</td>\n",
              "      <td>94.0</td>\n",
              "      <td>6.9</td>\n",
              "      <td>1115</td>\n",
              "      <td>1987-09-11</td>\n",
              "      <td>en</td>\n",
              "      <td>{'id': 8917, 'name': 'Hellraiser Collection', ...</td>\n",
              "      <td>[{'id': 27, 'name': 'Horror'}]</td>\n",
              "      <td>[{'id': 1950, 'logo_path': None, 'name': 'New ...</td>\n",
              "      <td>[{'cast_id': 15, 'character': 'Larry Cotton', ...</td>\n",
              "      <td>[{'credit_id': '533fd9260e0a262b92001027', 'de...</td>\n",
              "    </tr>\n",
              "    <tr>\n",
              "      <th>11153</th>\n",
              "      <td>61399552</td>\n",
              "      <td>15000000.0</td>\n",
              "      <td>15.070</td>\n",
              "      <td>99.0</td>\n",
              "      <td>7.1</td>\n",
              "      <td>782</td>\n",
              "      <td>1983-07-28</td>\n",
              "      <td>en</td>\n",
              "      <td>{'id': 108693, 'name': 'National Lampoon's Vac...</td>\n",
              "      <td>[{'id': 35, 'name': 'Comedy'}, {'id': 12, 'nam...</td>\n",
              "      <td>[{'id': 174, 'logo_path': '/IuAlhI9eVC9Z8UQWOI...</td>\n",
              "      <td>[{'cast_id': 1, 'character': 'Clark Griswold',...</td>\n",
              "      <td>[{'credit_id': '52fe44039251416c75025f27', 'de...</td>\n",
              "    </tr>\n",
              "  </tbody>\n",
              "</table>\n",
              "</div>"
            ],
            "text/plain": [
              "          revenue  ...                                               crew\n",
              "id                 ...                                                   \n",
              "559     890871626  ...  [{'credit_id': '52fe4252c3a36847f80151a5', 'de...\n",
              "50719      154323  ...  [{'credit_id': '52fe47d4c3a36847f814a70f', 'de...\n",
              "469062     176236  ...  [{'credit_id': '5980e931c3a3680cfb002d0e', 'de...\n",
              "9003     14564027  ...  [{'credit_id': '533fd9260e0a262b92001027', 'de...\n",
              "11153    61399552  ...  [{'credit_id': '52fe44039251416c75025f27', 'de...\n",
              "\n",
              "[5 rows x 13 columns]"
            ]
          },
          "metadata": {
            "tags": []
          },
          "execution_count": 5
        }
      ]
    },
    {
      "cell_type": "code",
      "metadata": {
        "id": "-0C7VHPwkYhX"
      },
      "source": [
        "sns.set_style('darkgrid')\n",
        "colors = ['#851836', '#EDBD17', '#0E1428', '#407076', '#4C5B61']\n",
        "sns.set_palette(sns.color_palette(colors))"
      ],
      "execution_count": null,
      "outputs": []
    },
    {
      "cell_type": "code",
      "metadata": {
        "scrolled": false,
        "id": "kc3iG98OkYhX",
        "colab": {
          "base_uri": "https://localhost:8080/",
          "height": 385
        },
        "outputId": "ad30c7f7-0ce6-4cba-cdf5-a39b0fa742f6"
      },
      "source": [
        "# dates chart\n",
        "\n",
        "fig, ax = plt.subplots(figsize=(15,5))\n",
        "years_hist = train[\"release_date\"].groupby([train[\"release_date\"].dt.year]).count()\n",
        "plt.bar(years_hist.index, years_hist.values)\n",
        "plt.tight_layout()\n",
        "plt.title(f'Histogram of movie release year')\n",
        "plt.show()    "
      ],
      "execution_count": null,
      "outputs": [
        {
          "output_type": "display_data",
          "data": {
            "image/png": "[encoded data removed]",
            "text/plain": [
              "<Figure size 1080x360 with 1 Axes>"
            ]
          },
          "metadata": {
            "tags": []
          }
        }
      ]
    },
    {
      "cell_type": "code",
      "metadata": {
        "scrolled": true,
        "id": "zA9D1PU5kYhY",
        "colab": {
          "base_uri": "https://localhost:8080/",
          "height": 1000
        },
        "outputId": "134ad819-ca6f-4d20-d1ca-fa9cf7f54b9a"
      },
      "source": [
        "# hists with/out outliars\n",
        "\n",
        "numerical = ['budget', 'popularity', 'revenue', 'runtime', 'vote_average', 'vote_count']\n",
        "for col in numerical:\n",
        "    threshold = np.mean(train[col]) + 2 * np.std(train[col])\n",
        "    col_for_hist=[i for i in train[col] if i < threshold]\n",
        "    train[col].hist(bins=40)\n",
        "    plt.tight_layout()\n",
        "    plt.title(f'{col} histogram')\n",
        "    plt.axvline(x=threshold, c='grey', linestyle='--')\n",
        "    if col in ['runtime', 'vote_average']:\n",
        "      plt.axvline(x=np.mean(train[col]) - 2 * np.std(train[col]), c='grey', linestyle='--')\n",
        "    plt.show()    \n",
        "\n",
        "    plt.hist(col_for_hist, bins=20)\n",
        "    plt.title(f'{col} histogram without ourliers')\n",
        "    plt.tight_layout()\n",
        "    plt.show()\n",
        "    print('\\n\\n\\n')"
      ],
      "execution_count": null,
      "outputs": [
        {
          "output_type": "display_data",
          "data": {
            "image/png": "[encoded data removed]",
            "text/plain": [
              "<Figure size 432x288 with 1 Axes>"
            ]
          },
          "metadata": {
            "tags": []
          }
        },
        {
          "output_type": "display_data",
          "data": {
            "image/png": "[encoded data removed]",
            "text/plain": [
              "<Figure size 432x288 with 1 Axes>"
            ]
          },
          "metadata": {
            "tags": []
          }
        },
        {
          "output_type": "stream",
          "text": [
            "\n",
            "\n",
            "\n",
            "\n"
          ],
          "name": "stdout"
        },
        {
          "output_type": "display_data",
          "data": {
            "image/png": "[encoded data removed]",
            "text/plain": [
              "<Figure size 432x288 with 1 Axes>"
            ]
          },
          "metadata": {
            "tags": []
          }
        },
        {
          "output_type": "display_data",
          "data": {
            "image/png": "[encoded data removed]",
            "text/plain": [
              "<Figure size 432x288 with 1 Axes>"
            ]
          },
          "metadata": {
            "tags": []
          }
        },
        {
          "output_type": "stream",
          "text": [
            "\n",
            "\n",
            "\n",
            "\n"
          ],
          "name": "stdout"
        },
        {
          "output_type": "display_data",
          "data": {
            "image/png": "[encoded data removed]",
            "text/plain": [
              "<Figure size 432x288 with 1 Axes>"
            ]
          },
          "metadata": {
            "tags": []
          }
        },
        {
          "output_type": "display_data",
          "data": {
            "image/png": "[encoded data removed]",
            "text/plain": [
              "<Figure size 432x288 with 1 Axes>"
            ]
          },
          "metadata": {
            "tags": []
          }
        },
        {
          "output_type": "stream",
          "text": [
            "\n",
            "\n",
            "\n",
            "\n"
          ],
          "name": "stdout"
        },
        {
          "output_type": "display_data",
          "data": {
            "image/png": "[encoded data removed]",
            "text/plain": [
              "<Figure size 432x288 with 1 Axes>"
            ]
          },
          "metadata": {
            "tags": []
          }
        },
        {
          "output_type": "display_data",
          "data": {
            "image/png": "[encoded data removed]",
            "text/plain": [
              "<Figure size 432x288 with 1 Axes>"
            ]
          },
          "metadata": {
            "tags": []
          }
        },
        {
          "output_type": "stream",
          "text": [
            "\n",
            "\n",
            "\n",
            "\n"
          ],
          "name": "stdout"
        },
        {
          "output_type": "display_data",
          "data": {
            "image/png": "[encoded data removed]",
            "text/plain": [
              "<Figure size 432x288 with 1 Axes>"
            ]
          },
          "metadata": {
            "tags": []
          }
        },
        {
          "output_type": "display_data",
          "data": {
            "image/png": "[encoded data removed]",
            "text/plain": [
              "<Figure size 432x288 with 1 Axes>"
            ]
          },
          "metadata": {
            "tags": []
          }
        },
        {
          "output_type": "stream",
          "text": [
            "\n",
            "\n",
            "\n",
            "\n"
          ],
          "name": "stdout"
        },
        {
          "output_type": "display_data",
          "data": {
            "image/png": "[encoded data removed]",
            "text/plain": [
              "<Figure size 432x288 with 1 Axes>"
            ]
          },
          "metadata": {
            "tags": []
          }
        },
        {
          "output_type": "display_data",
          "data": {
            "image/png": "[encoded data removed]",
            "text/plain": [
              "<Figure size 432x288 with 1 Axes>"
            ]
          },
          "metadata": {
            "tags": []
          }
        },
        {
          "output_type": "stream",
          "text": [
            "\n",
            "\n",
            "\n",
            "\n"
          ],
          "name": "stdout"
        }
      ]
    },
    {
      "cell_type": "code",
      "metadata": {
        "scrolled": true,
        "id": "0eez-OaQkYhY",
        "colab": {
          "base_uri": "https://localhost:8080/",
          "height": 1000
        },
        "outputId": "7debdbe9-4856-4a88-a1fe-69d6b3cb1911"
      },
      "source": [
        "# boxplots with/out outliars\n",
        "\n",
        "for col in numerical:\n",
        "    train[[col]].boxplot(figsize=(12,2), vert=False, fontsize=16)\n",
        "    plt.tight_layout()\n",
        "    plt.show()\n",
        "    train[[col]].boxplot(figsize=(12,2), vert=False, showfliers=False, fontsize=16)\n",
        "    plt.tight_layout()\n",
        "    plt.show()\n",
        "    print('\\n\\n\\n')"
      ],
      "execution_count": null,
      "outputs": [
        {
          "output_type": "display_data",
          "data": {
            "image/png": "[encoded data removed]",
            "text/plain": [
              "<Figure size 864x144 with 1 Axes>"
            ]
          },
          "metadata": {
            "tags": []
          }
        },
        {
          "output_type": "display_data",
          "data": {
            "image/png": "[encoded data removed]",
            "text/plain": [
              "<Figure size 864x144 with 1 Axes>"
            ]
          },
          "metadata": {
            "tags": []
          }
        },
        {
          "output_type": "stream",
          "text": [
            "\n",
            "\n",
            "\n",
            "\n"
          ],
          "name": "stdout"
        },
        {
          "output_type": "display_data",
          "data": {
            "image/png": "[encoded data removed]",
            "text/plain": [
              "<Figure size 864x144 with 1 Axes>"
            ]
          },
          "metadata": {
            "tags": []
          }
        },
        {
          "output_type": "display_data",
          "data": {
            "image/png": "[encoded data removed]",
            "text/plain": [
              "<Figure size 864x144 with 1 Axes>"
            ]
          },
          "metadata": {
            "tags": []
          }
        },
        {
          "output_type": "stream",
          "text": [
            "\n",
            "\n",
            "\n",
            "\n"
          ],
          "name": "stdout"
        },
        {
          "output_type": "display_data",
          "data": {
            "image/png": "[encoded data removed]",
            "text/plain": [
              "<Figure size 864x144 with 1 Axes>"
            ]
          },
          "metadata": {
            "tags": []
          }
        },
        {
          "output_type": "display_data",
          "data": {
            "image/png": "[encoded data removed]",
            "text/plain": [
              "<Figure size 864x144 with 1 Axes>"
            ]
          },
          "metadata": {
            "tags": []
          }
        },
        {
          "output_type": "stream",
          "text": [
            "\n",
            "\n",
            "\n",
            "\n"
          ],
          "name": "stdout"
        },
        {
          "output_type": "display_data",
          "data": {
            "image/png": "[encoded data removed]",
            "text/plain": [
              "<Figure size 864x144 with 1 Axes>"
            ]
          },
          "metadata": {
            "tags": []
          }
        },
        {
          "output_type": "display_data",
          "data": {
            "image/png": "[encoded data removed]",
            "text/plain": [
              "<Figure size 864x144 with 1 Axes>"
            ]
          },
          "metadata": {
            "tags": []
          }
        },
        {
          "output_type": "stream",
          "text": [
            "\n",
            "\n",
            "\n",
            "\n"
          ],
          "name": "stdout"
        },
        {
          "output_type": "display_data",
          "data": {
            "image/png": "[encoded data removed]",
            "text/plain": [
              "<Figure size 864x144 with 1 Axes>"
            ]
          },
          "metadata": {
            "tags": []
          }
        },
        {
          "output_type": "display_data",
          "data": {
            "image/png": "[encoded data removed]",
            "text/plain": [
              "<Figure size 864x144 with 1 Axes>"
            ]
          },
          "metadata": {
            "tags": []
          }
        },
        {
          "output_type": "stream",
          "text": [
            "\n",
            "\n",
            "\n",
            "\n"
          ],
          "name": "stdout"
        },
        {
          "output_type": "display_data",
          "data": {
            "image/png": "[encoded data removed]",
            "text/plain": [
              "<Figure size 864x144 with 1 Axes>"
            ]
          },
          "metadata": {
            "tags": []
          }
        },
        {
          "output_type": "display_data",
          "data": {
            "image/png": "[encoded data removed]",
            "text/plain": [
              "<Figure size 864x144 with 1 Axes>"
            ]
          },
          "metadata": {
            "tags": []
          }
        },
        {
          "output_type": "stream",
          "text": [
            "\n",
            "\n",
            "\n",
            "\n"
          ],
          "name": "stdout"
        }
      ]
    },
    {
      "cell_type": "code",
      "metadata": {
        "scrolled": true,
        "id": "BjfEuG3BkYhY",
        "colab": {
          "base_uri": "https://localhost:8080/",
          "height": 316
        },
        "outputId": "d8c6d69b-29c5-47f0-a4ba-d05b7fca3338"
      },
      "source": [
        "import datetime\n",
        "df_popularity_per_year = train.sort_values('release_date')\n",
        "df_popularity_per_year = df_popularity_per_year.reset_index()\n",
        "\n",
        "d_2016 = datetime.datetime(2016, 1, 1) \n",
        "d_2017 = datetime.datetime(2017, 1, 1)\n",
        "d_2018 = datetime.datetime(2018, 1, 1)\n",
        "d_2019 = datetime.datetime(2019, 1, 1)\n",
        "d_2020 = datetime.datetime(2020, 1, 1)\n",
        "\n",
        "df_under_2016 = df_popularity_per_year[(df_popularity_per_year['release_date'] < d_2016)]\n",
        "df_2016 = df_popularity_per_year[(df_popularity_per_year['release_date'] > d_2016) & (df_popularity_per_year['release_date'] < d_2017)]\n",
        "df_2017 = df_popularity_per_year[(df_popularity_per_year['release_date'] > d_2017) & (df_popularity_per_year['release_date'] < d_2018)]\n",
        "df_2018 = df_popularity_per_year[(df_popularity_per_year['release_date'] > d_2018) & (df_popularity_per_year['release_date'] < d_2019)]\n",
        "df_2019 = df_popularity_per_year[(df_popularity_per_year['release_date'] > d_2019) & (df_popularity_per_year['release_date'] < d_2020)]\n",
        "\n",
        "# popolarity per year\n",
        "fig, ax = plt.subplots()\n",
        "plt.bar([i for i in range(5)], [df_under_2016['popularity'].mean(),\n",
        "                                df_2016['popularity'].mean(),\n",
        "                                df_2017['popularity'].mean(),\n",
        "                                df_2018['popularity'].mean(),\n",
        "                                df_2019['popularity'].mean()])\n",
        "\n",
        "plt.tight_layout()\n",
        "plt.title(f'Mean of popularity by year', fontsize=13)\n",
        "ax.set_xticks([i for i in range(5)])\n",
        "ax.set_xticklabels(['<2016', '2016','2017','2018','2019'], fontsize=13)\n",
        "\n",
        "\n",
        "plt.show()    "
      ],
      "execution_count": null,
      "outputs": [
        {
          "output_type": "display_data",
          "data": {
            "image/png": "[encoded data removed]",
            "text/plain": [
              "<Figure size 432x288 with 1 Axes>"
            ]
          },
          "metadata": {
            "tags": []
          }
        }
      ]
    },
    {
      "cell_type": "code",
      "metadata": {
        "scrolled": true,
        "id": "2RuHSP3PkYhZ",
        "colab": {
          "base_uri": "https://localhost:8080/",
          "height": 399
        },
        "outputId": "a7ead5f3-94df-4267-e723-88841f9f4596"
      },
      "source": [
        "# correlation between vars to revenue\n",
        "fig, ax = plt.subplots()\n",
        "corr_to_revenue = train.corr()['revenue'].sort_values().drop('revenue')\n",
        "plt.bar(corr_to_revenue.index, corr_to_revenue.values)\n",
        "plt.tight_layout()\n",
        "# plt.title(f' histogram')\n",
        "plt.show()    \n",
        "print(corr_to_revenue)"
      ],
      "execution_count": null,
      "outputs": [
        {
          "output_type": "display_data",
          "data": {
            "image/png": "[encoded data removed]",
            "text/plain": [
              "<Figure size 432x288 with 1 Axes>"
            ]
          },
          "metadata": {
            "tags": []
          }
        },
        {
          "output_type": "stream",
          "text": [
            "vote_average    0.159344\n",
            "runtime         0.183450\n",
            "popularity      0.567924\n",
            "budget          0.741447\n",
            "vote_count      0.769808\n",
            "Name: revenue, dtype: float64\n"
          ],
          "name": "stdout"
        }
      ]
    },
    {
      "cell_type": "code",
      "metadata": {
        "id": "7gmj-R4qkYhb",
        "colab": {
          "base_uri": "https://localhost:8080/",
          "height": 307
        },
        "outputId": "361bcf18-d589-40c0-a86c-352a72135e82"
      },
      "source": [
        "sns.scatterplot(x=\"revenue\", y='budget', data=train)"
      ],
      "execution_count": null,
      "outputs": [
        {
          "output_type": "execute_result",
          "data": {
            "text/plain": [
              "<matplotlib.axes._subplots.AxesSubplot at 0x7f9ae8fc6550>"
            ]
          },
          "metadata": {
            "tags": []
          },
          "execution_count": 18
        },
        {
          "output_type": "display_data",
          "data": {
            "image/png": "[encoded data removed]",
            "text/plain": [
              "<Figure size 432x288 with 1 Axes>"
            ]
          },
          "metadata": {
            "tags": []
          }
        }
      ]
    },
    {
      "cell_type": "code",
      "metadata": {
        "id": "7adgH263kYhb",
        "colab": {
          "base_uri": "https://localhost:8080/",
          "height": 296
        },
        "outputId": "02b428e1-00d5-4a86-fa38-7ff6f43e37cf"
      },
      "source": [
        "sns.scatterplot(x=\"revenue\", y='vote_count', data=train)"
      ],
      "execution_count": null,
      "outputs": [
        {
          "output_type": "execute_result",
          "data": {
            "text/plain": [
              "<matplotlib.axes._subplots.AxesSubplot at 0x7f9ae8de7310>"
            ]
          },
          "metadata": {
            "tags": []
          },
          "execution_count": 19
        },
        {
          "output_type": "display_data",
          "data": {
            "image/png": "[encoded data removed]",
            "text/plain": [
              "<Figure size 432x288 with 1 Axes>"
            ]
          },
          "metadata": {
            "tags": []
          }
        }
      ]
    },
    {
      "cell_type": "code",
      "metadata": {
        "id": "x8NVPjxikYhb",
        "colab": {
          "base_uri": "https://localhost:8080/",
          "height": 765
        },
        "outputId": "28617c10-4d90-4407-c4e1-345b2ebc7a12"
      },
      "source": [
        "# charts to the dicts objects\n",
        "train = train.mask(train.isna(), None)\n",
        "\n",
        "train['belongs_to_collection_name'] = train['belongs_to_collection'].apply(lambda x: x if x is None else x['name'])\n",
        "train['belongs_to_collection_id'] = train['belongs_to_collection'].apply(lambda x: x if x is None else x['id'])\n",
        "train['genres_name'] = train['genres'].apply(lambda x: x if x is None else [element['name'] for element in x])\n",
        "train['genres_id'] = train['genres'].apply(lambda x: x if x is None else [element['id'] for element in x])\n",
        "train['production_companies_name'] = train['production_companies'].apply(lambda x: x if x is None else [element['name'] for element in x])\n",
        "train['production_companies_id'] = train['production_companies'].apply(lambda x: x if x is None else [element['id'] for element in x])\n",
        "train['cast_name'] = train['cast'].apply(lambda x: x if x is None else [element['name'] for element in x])\n",
        "train['cast_id'] = train['cast'].apply(lambda x: x if x is None else [element['cast_id'] for element in x])\n",
        "jobs = ['Executive Producer', 'Producer', 'Director', 'Screenplay', 'Author']\n",
        "train['crew_job'] = train['crew'].apply(lambda x: x if x is None else [element['job'] for element in x if element['job'] in jobs])\n",
        "train['crew_name'] = train['crew'].apply(lambda x: x if x is None else [element['name'] for element in x if element['job'] in jobs])\n",
        "train['crew_id'] = train['crew'].apply(lambda x: x if x is None else [element['id'] for element in x if element['job'] in jobs])\n",
        "\n",
        "train.head()"
      ],
      "execution_count": null,
      "outputs": [
        {
          "output_type": "execute_result",
          "data": {
            "text/html": [
              "<div>\n",
              "<style scoped>\n",
              "    .dataframe tbody tr th:only-of-type {\n",
              "        vertical-align: middle;\n",
              "    }\n",
              "\n",
              "    .dataframe tbody tr th {\n",
              "        vertical-align: top;\n",
              "    }\n",
              "\n",
              "    .dataframe thead th {\n",
              "        text-align: right;\n",
              "    }\n",
              "</style>\n",
              "<table border=\"1\" class=\"dataframe\">\n",
              "  <thead>\n",
              "    <tr style=\"text-align: right;\">\n",
              "      <th></th>\n",
              "      <th>revenue</th>\n",
              "      <th>budget</th>\n",
              "      <th>popularity</th>\n",
              "      <th>runtime</th>\n",
              "      <th>vote_average</th>\n",
              "      <th>vote_count</th>\n",
              "      <th>release_date</th>\n",
              "      <th>original_language</th>\n",
              "      <th>belongs_to_collection</th>\n",
              "      <th>genres</th>\n",
              "      <th>production_companies</th>\n",
              "      <th>cast</th>\n",
              "      <th>crew</th>\n",
              "      <th>belongs_to_collection_name</th>\n",
              "      <th>belongs_to_collection_id</th>\n",
              "      <th>genres_name</th>\n",
              "      <th>genres_id</th>\n",
              "      <th>production_companies_name</th>\n",
              "      <th>production_companies_id</th>\n",
              "      <th>cast_name</th>\n",
              "      <th>cast_id</th>\n",
              "      <th>crew_job</th>\n",
              "      <th>crew_name</th>\n",
              "      <th>crew_id</th>\n",
              "    </tr>\n",
              "    <tr>\n",
              "      <th>id</th>\n",
              "      <th></th>\n",
              "      <th></th>\n",
              "      <th></th>\n",
              "      <th></th>\n",
              "      <th></th>\n",
              "      <th></th>\n",
              "      <th></th>\n",
              "      <th></th>\n",
              "      <th></th>\n",
              "      <th></th>\n",
              "      <th></th>\n",
              "      <th></th>\n",
              "      <th></th>\n",
              "      <th></th>\n",
              "      <th></th>\n",
              "      <th></th>\n",
              "      <th></th>\n",
              "      <th></th>\n",
              "      <th></th>\n",
              "      <th></th>\n",
              "      <th></th>\n",
              "      <th></th>\n",
              "      <th></th>\n",
              "      <th></th>\n",
              "    </tr>\n",
              "  </thead>\n",
              "  <tbody>\n",
              "    <tr>\n",
              "      <th>559</th>\n",
              "      <td>890871626</td>\n",
              "      <td>2.58e+08</td>\n",
              "      <td>22.024</td>\n",
              "      <td>139</td>\n",
              "      <td>6.2</td>\n",
              "      <td>8180</td>\n",
              "      <td>2007-05-01</td>\n",
              "      <td>en</td>\n",
              "      <td>{'id': 556, 'name': 'Spider-Man Collection', '...</td>\n",
              "      <td>[{'id': 14, 'name': 'Fantasy'}, {'id': 28, 'na...</td>\n",
              "      <td>[{'id': 19551, 'logo_path': '/2WpWp9b108hizjHK...</td>\n",
              "      <td>[{'cast_id': 30, 'character': 'Peter Parker / ...</td>\n",
              "      <td>[{'credit_id': '52fe4252c3a36847f80151a5', 'de...</td>\n",
              "      <td>Spider-Man Collection</td>\n",
              "      <td>556.0</td>\n",
              "      <td>[Fantasy, Action, Adventure]</td>\n",
              "      <td>[14, 28, 12]</td>\n",
              "      <td>[Marvel Enterprises, Columbia Pictures, Laura ...</td>\n",
              "      <td>[19551, 5, 326, 34]</td>\n",
              "      <td>[Tobey Maguire, Kirsten Dunst, James Franco, T...</td>\n",
              "      <td>[30, 7, 35, 36, 37, 8, 31, 9, 10, 14, 12, 13, ...</td>\n",
              "      <td>[Executive Producer, Screenplay, Director, Aut...</td>\n",
              "      <td>[Joseph M. Caracciolo Jr., Sam Raimi, Sam Raim...</td>\n",
              "      <td>[10570, 7623, 7623, 7624, 7624, 7625, 7627, 76...</td>\n",
              "    </tr>\n",
              "    <tr>\n",
              "      <th>50719</th>\n",
              "      <td>154323</td>\n",
              "      <td>250000</td>\n",
              "      <td>4.756</td>\n",
              "      <td>88</td>\n",
              "      <td>4.3</td>\n",
              "      <td>68</td>\n",
              "      <td>1987-04-10</td>\n",
              "      <td>en</td>\n",
              "      <td>{'id': 256296, 'name': 'Silent Night, Deadly N...</td>\n",
              "      <td>[{'id': 35, 'name': 'Comedy'}, {'id': 27, 'nam...</td>\n",
              "      <td>[{'id': 18924, 'logo_path': None, 'name': 'Sil...</td>\n",
              "      <td>[{'cast_id': 1000, 'character': 'Ricky Caldwel...</td>\n",
              "      <td>[{'credit_id': '52fe47d4c3a36847f814a70f', 'de...</td>\n",
              "      <td>Silent Night, Deadly Night Collection</td>\n",
              "      <td>256296.0</td>\n",
              "      <td>[Comedy, Horror]</td>\n",
              "      <td>[35, 27]</td>\n",
              "      <td>[Silent Night Releasing Corporation]</td>\n",
              "      <td>[18924]</td>\n",
              "      <td>[Eric Freeman, James Newman, Elizabeth Kaitan,...</td>\n",
              "      <td>[1000, 1071, 1005, 1006, 1007, 1008, 1009, 101...</td>\n",
              "      <td>[Screenplay, Director, Producer, Screenplay]</td>\n",
              "      <td>[Lee Harry, Lee Harry, Lawrence Appelbaum, Jos...</td>\n",
              "      <td>[213404, 213404, 213405, 213406]</td>\n",
              "    </tr>\n",
              "    <tr>\n",
              "      <th>469062</th>\n",
              "      <td>176236</td>\n",
              "      <td>None</td>\n",
              "      <td>4.746</td>\n",
              "      <td>98</td>\n",
              "      <td>6.5</td>\n",
              "      <td>15</td>\n",
              "      <td>2018-07-27</td>\n",
              "      <td>en</td>\n",
              "      <td>None</td>\n",
              "      <td>[{'id': 99, 'name': 'Documentary'}]</td>\n",
              "      <td>[{'id': 88564, 'logo_path': '/pn3p12IC4Tb0K8re...</td>\n",
              "      <td>[{'cast_id': 1, 'character': 'Himself', 'credi...</td>\n",
              "      <td>[{'credit_id': '5980e931c3a3680cfb002d0e', 'de...</td>\n",
              "      <td>None</td>\n",
              "      <td>NaN</td>\n",
              "      <td>[Documentary]</td>\n",
              "      <td>[99]</td>\n",
              "      <td>[Water's End Productions]</td>\n",
              "      <td>[88564]</td>\n",
              "      <td>[Scotty Bowers, Peter Bart, William Mann, Robe...</td>\n",
              "      <td>[1, 0, 2, 3, 68, 69, 70]</td>\n",
              "      <td>[Producer, Executive Producer, Director, Execu...</td>\n",
              "      <td>[Josh Braun, Pierre Lagrange, Matt Tyrnauer, L...</td>\n",
              "      <td>[27710, 1046137, 1116251, 1479281, 1581913, 17...</td>\n",
              "    </tr>\n",
              "    <tr>\n",
              "      <th>9003</th>\n",
              "      <td>14564027</td>\n",
              "      <td>1e+06</td>\n",
              "      <td>13.828</td>\n",
              "      <td>94</td>\n",
              "      <td>6.9</td>\n",
              "      <td>1115</td>\n",
              "      <td>1987-09-11</td>\n",
              "      <td>en</td>\n",
              "      <td>{'id': 8917, 'name': 'Hellraiser Collection', ...</td>\n",
              "      <td>[{'id': 27, 'name': 'Horror'}]</td>\n",
              "      <td>[{'id': 1950, 'logo_path': None, 'name': 'New ...</td>\n",
              "      <td>[{'cast_id': 15, 'character': 'Larry Cotton', ...</td>\n",
              "      <td>[{'credit_id': '533fd9260e0a262b92001027', 'de...</td>\n",
              "      <td>Hellraiser Collection</td>\n",
              "      <td>8917.0</td>\n",
              "      <td>[Horror]</td>\n",
              "      <td>[27]</td>\n",
              "      <td>[New World Pictures, Cinemarque Entertainment ...</td>\n",
              "      <td>[1950, 15338, 15339, 15340]</td>\n",
              "      <td>[Andrew Robinson, Clare Higgins, Ashley Lauren...</td>\n",
              "      <td>[15, 16, 17, 18, 19, 20, 21, 22, 38, 41, 24, 2...</td>\n",
              "      <td>[Producer, Director, Executive Producer, Execu...</td>\n",
              "      <td>[Christopher Figg, Clive Barker, David Saunder...</td>\n",
              "      <td>[9000, 31211, 42129, 56546, 1629958]</td>\n",
              "    </tr>\n",
              "    <tr>\n",
              "      <th>11153</th>\n",
              "      <td>61399552</td>\n",
              "      <td>1.5e+07</td>\n",
              "      <td>15.07</td>\n",
              "      <td>99</td>\n",
              "      <td>7.1</td>\n",
              "      <td>782</td>\n",
              "      <td>1983-07-28</td>\n",
              "      <td>en</td>\n",
              "      <td>{'id': 108693, 'name': 'National Lampoon's Vac...</td>\n",
              "      <td>[{'id': 35, 'name': 'Comedy'}, {'id': 12, 'nam...</td>\n",
              "      <td>[{'id': 174, 'logo_path': '/IuAlhI9eVC9Z8UQWOI...</td>\n",
              "      <td>[{'cast_id': 1, 'character': 'Clark Griswold',...</td>\n",
              "      <td>[{'credit_id': '52fe44039251416c75025f27', 'de...</td>\n",
              "      <td>National Lampoon's Vacation Collection</td>\n",
              "      <td>108693.0</td>\n",
              "      <td>[Comedy, Adventure]</td>\n",
              "      <td>[35, 12]</td>\n",
              "      <td>[Warner Bros. Pictures]</td>\n",
              "      <td>[174]</td>\n",
              "      <td>[Chevy Chase, Beverly D'Angelo, Imogene Coca, ...</td>\n",
              "      <td>[1, 2, 3, 4, 12, 24, 13, 14, 16, 17, 18, 19, 2...</td>\n",
              "      <td>[Director, Screenplay, Producer]</td>\n",
              "      <td>[Harold Ramis, John Hughes, Matty Simmons]</td>\n",
              "      <td>[1524, 11505, 69342]</td>\n",
              "    </tr>\n",
              "  </tbody>\n",
              "</table>\n",
              "</div>"
            ],
            "text/plain": [
              "          revenue  ...                                            crew_id\n",
              "id                 ...                                                   \n",
              "559     890871626  ...  [10570, 7623, 7623, 7624, 7624, 7625, 7627, 76...\n",
              "50719      154323  ...                   [213404, 213404, 213405, 213406]\n",
              "469062     176236  ...  [27710, 1046137, 1116251, 1479281, 1581913, 17...\n",
              "9003     14564027  ...               [9000, 31211, 42129, 56546, 1629958]\n",
              "11153    61399552  ...                               [1524, 11505, 69342]\n",
              "\n",
              "[5 rows x 24 columns]"
            ]
          },
          "metadata": {
            "tags": []
          },
          "execution_count": 21
        }
      ]
    },
    {
      "cell_type": "markdown",
      "metadata": {
        "id": "7xZi2iMNkYhb"
      },
      "source": [
        "# Missing data"
      ]
    },
    {
      "cell_type": "code",
      "metadata": {
        "id": "Pg8hjsgckYhc",
        "colab": {
          "base_uri": "https://localhost:8080/"
        },
        "outputId": "b7ce9bd6-b9bc-48f9-818e-c53c483111d5"
      },
      "source": [
        "train.isna().sum()"
      ],
      "execution_count": null,
      "outputs": [
        {
          "output_type": "execute_result",
          "data": {
            "text/plain": [
              "revenue                          0\n",
              "budget                        1487\n",
              "popularity                       0\n",
              "runtime                         16\n",
              "vote_average                     0\n",
              "vote_count                       0\n",
              "release_date                     0\n",
              "original_language                0\n",
              "belongs_to_collection         4150\n",
              "genres                           0\n",
              "production_companies             0\n",
              "cast                             0\n",
              "crew                             0\n",
              "belongs_to_collection_name    4150\n",
              "belongs_to_collection_id      4150\n",
              "genres_name                      0\n",
              "genres_id                        0\n",
              "production_companies_name        0\n",
              "production_companies_id          0\n",
              "cast_name                        0\n",
              "cast_id                          0\n",
              "crew_job                         0\n",
              "crew_name                        0\n",
              "crew_id                          0\n",
              "dtype: int64"
            ]
          },
          "metadata": {
            "tags": []
          },
          "execution_count": 22
        }
      ]
    },
    {
      "cell_type": "code",
      "metadata": {
        "scrolled": true,
        "id": "j4OZSV6ykYhc",
        "colab": {
          "base_uri": "https://localhost:8080/"
        },
        "outputId": "cc7d55e4-bf21-4f83-fc49-b15fd7b6ab7a"
      },
      "source": [
        "print(train.revenue.value_counts(dropna=False))\n",
        "print(list(train.revenue.value_counts(dropna=False).sort_index().index))"
      ],
      "execution_count": null,
      "outputs": [
        {
          "output_type": "stream",
          "text": [
            "10000000     15\n",
            "1000000      14\n",
            "12000000     14\n",
            "2000000      13\n",
            "11000000     13\n",
            "             ..\n",
            "6670680       1\n",
            "29381956      1\n",
            "125212904     1\n",
            "99067206      1\n",
            "2550321       1\n",
            "Name: revenue, Length: 4849, dtype: int64\n",
            "[1, 2, 3, 4, 5, 6, 7, 8, 9, 10, 11, 12, 13, 14, 15, 16, 17, 19, 20, 21, 24, 27, 30, 35, 39, 40, 43, 44, 46, 50, 51, 58, 71, 73, 75, 79, 80, 83, 85, 88, 95, 112, 114, 125, 136, 152, 165, 172, 203, 211, 228, 230, 288, 303, 344, 388, 481, 500, 525, 537, 623, 641, 715, 854, 921, 1200, 1378, 1404, 1469, 1596, 1800, 1938, 2521, 2583, 2634, 2710, 2970, 3010, 3350, 3407, 3462, 3465, 3774, 3838, 4000, 4105, 4187, 4218, 4444, 4488, 4526, 4534, 4537, 4542, 4631, 4970, 5206, 5240, 5274, 5290, 5303, 5708, 5777, 5975, 5980, 6000, 6075, 6297, 6315, 6399, 6420, 6508, 6701, 6877, 6915, 6921, 7182, 7235, 7271, 7362, 7424, 7556, 7764, 7865, 7940, 7965, 8034, 8290, 8326, 8452, 9195, 9200, 9221, 9318, 9392, 9496, 9747, 9995, 10000, 10018, 10068, 10188, 10289, 10456, 10967, 11229, 11276, 11294, 11295, 11486, 11573, 11650, 11720, 11722, 11774, 11859, 11951, 12000, 12189, 12207, 12247, 12250, 12488, 12756, 13064, 13308, 13674, 13684, 13769, 13975, 14000, 14056, 14067, 14742, 14752, 14870, 14873, 14947, 15071, 15077, 15425, 15714, 15919, 16000, 16136, 16201, 16344, 16458, 16544, 16559, 16775, 17011, 17472, 17479, 17682, 17808, 18000, 18295, 18479, 18612, 18642, 18957, 19181, 19684, 20000, 20380, 21075, 21268, 21660, 21712, 21833, 21878, 22091, 22136, 22270, 22278, 22321, 22834, 22836, 22930, 23000, 23020, 23578, 23692, 23859, 24084, 24134, 24267, 24995, 25000, 25461, 25488, 25526, 25781, 25800, 26394, 26409, 26488, 26966, 27046, 27312, 27354, 27741, 28200, 28208, 28281, 28951, 29110, 29258, 29494, 29934, 30000, 30071, 30169, 30414, 30471, 30638, 30878, 30911, 30966, 31046, 31081, 31307, 31430, 31649, 31651, 31815, 32000, 32163, 32251, 32395, 33125, 33187, 33556, 33621, 33700, 33962, 34947, 35000, 35022, 37285, 37319, 38585, 38775, 39388, 39481, 39687, 39842, 39881, 40239, 40397, 40400, 40758, 40945, 40952, 41010, 41767, 44566, 44695, 44872, 45000, 45100, 45250, 45431, 45779, 46352, 46474, 46488, 46714, 46921, 47527, 47748, 48000, 48125, 48390, 48398, 48482, 48911, 49620, 49667, 49970, 50000, 50394, 51420, 52164, 52604, 54200, 54207, 54606, 54800, 54915, 54947, 55000, 55089, 55125, 55240, 55282, 55429, 56574, 56825, 58510, 59209, 60000, 60413, 60641, 61035, 62852, 62985, 63802, 63931, 64065, 64227, 64648, 66351, 66456, 67132, 69497, 70569, 72348, 73121, 73706, 74918, 76382, 78350, 78676, 80226, 80768, 81000, 81056, 81071, 81089, 82701, 82703, 83305, 84093, 84744, 86175, 88097, 88335, 89182, 89417, 89661, 90275, 91549, 95000, 95242, 95687, 96568, 96868, 97000, 100000, 100420, 100477, 101203, 101236, 101543, 102388, 102471, 102617, 102780, 102986, 103536, 104810, 105090, 105656, 106498, 108154, 108348, 109130, 110197, 111731, 112132, 113783, 115103, 115605, 116207, 116799, 116806, 117090, 117463, 117629, 118475, 119563, 120000, 120620, 120680, 121129, 121461, 123509, 123899, 124191, 124693, 124880, 124919, 126247, 126463, 127067, 127251, 127761, 128015, 129124, 130541, 133332, 133771, 134634, 135026, 135095, 135893, 137341, 137722, 138000, 138704, 138730, 138868, 138913, 140666, 141864, 143000, 143101, 144008, 144633, 146402, 146642, 147391, 148461, 148671, 150438, 151042, 151356, 152810, 152961, 153155, 154323, 155895, 157768, 159429, 161362, 161410, 161789, 162589, 163169, 163265, 167000, 168406, 169209, 169976, 170832, 171760, 173066, 173616, 175742, 176236, 176372, 176391, 176532, 178174, 179381, 179590, 180590, 181316, 182857, 185576, 185898, 186702, 187112, 187145, 187349, 187674, 187716, 188126, 188500, 191051, 191125, 192400, 193081, 194287, 194720, 195184, 197791, 199436, 200126, 200242, 200406, 201055, 201275, 201719, 203373, 203781, 204660, 204940, 205068, 206128, 206728, 206871, 208588, 209151, 209696, 213687, 214000, 214600, 215339, 216166, 217201, 218184, 218626, 220151, 221295, 223839, 223959, 228136, 229094, 230069, 231737, 231800, 232638, 232732, 234417, 234725, 235432, 238073, 238227, 239894, 240000, 240476, 240978, 241278, 241816, 242483, 242623, 245000, 245300, 249009, 249083, 250993, 251495, 251775, 252603, 252676, 253527, 253899, 254190, 257043, 258263, 258656, 261465, 263404, 263941, 265198, 265318, 265452, 268254, 268476, 269144, 269980, 271375, 271755, 272132, 272371, 273747, 276891, 278720, 279735, 280668, 282000, 282448, 285000, 285930, 286201, 293385, 295206, 295444, 296557, 299200, 299792, 300000, 302179, 302204, 302459, 302990, 305070, 307076, 307811, 309776, 310407, 311922, 312381, 312642, 312751, 314131, 317000, 319285, 320256, 321011, 321930, 324138, 325000, 327418, 330048, 331000, 331816, 333593, 334748, 336472, 337812, 338778, 338987, 340147, 340911, 342183, 342519, 342835, 343341, 343816, 345280, 345872, 345972, 346472, 346485, 346594, 349886, 350000, 354704, 355688, 361712, 361950, 362222, 364937, 365134, 365522, 365734, 367638, 370668, 371396, 373530, 373967, 374743, 375805, 382291, 383294, 386166, 389503, 390659, 391410, 393970, 395000, 396003, 399611, 400000, 400654, 401421, 405000, 406881, 411115, 411897, 413479, 416167, 416498, 416925, 418053, 418807, 419953, 424760, 426224, 426965, 427418, 427628, 428868, 430041, 432274, 432671, 439564, 444098, 447784, 455815, 458996, 460226, 462107, 464991, 466088, 469311, 470901, 472370, 477815, 480314, 482723, 486021, 489389, 490475, 493857, 494506, 495303, 496334, 497323, 498974, 500000, 502758, 512451, 515000, 520000, 527000, 528428, 530048, 532669, 536364, 538000, 539896, 546545, 548039, 551760, 553198, 557169, 560000, 560069, 561085, 566006, 566736, 569217, 573904, 581011, 581138, 589244, 592565, 593683, 596000, 598645, 602042, 603943, 605562, 610792, 614202, 615752, 615816, 623791, 626057, 632542, 635096, 638641, 653951, 656747, 658000, 658573, 659600, 669276, 670774, 674918, 676698, 678102, 692585, 694438, 694497, 700183, 702001, 705308, 706000, 708973, 713616, 717205, 718490, 720074, 725131, 726000, 731607, 731753, 731827, 732655, 733094, 735992, 740000, 741875, 743445, 744816, 745327, 748453, 752045, 754249, 754935, 766075, 767311, 767567, 769028, 769552, 771317, 773228, 776691, 779137, 779820, 783000, 784990, 791830, 792200, 794452, 799674, 801000, 802951, 808114, 809000, 819939, 823258, 830129, 833779, 834332, 834457, 837000, 841733, 846704, 849915, 850225, 850259, 850994, 851517, 851545, 852206, 852872, 855450, 857522, 861789, 864659, 867714, 868439, 869325, 869780, 871279, 876302, 880474, 882290, 884100, 885000, 887000, 887029, 890303, 890729, 892000, 900689, 901668, 911466, 920719, 921548, 921974, 927704, 930349, 939101, 939423, 950000, 951179, 952820, 955925, 957240, 957744, 958000, 960040, 993313, 1000000, 1001305, 1001437, 1007583, 1007962, 1008404, 1009620, 1011305, 1012821, 1015000, 1015339, 1015744, 1016985, 1017401, 1023156, 1027699, 1030938, 1036737, 1037335, 1040000, 1044824, 1046166, 1053002, 1056376, 1057421, 1065881, 1066981, 1072602, 1075178, 1076075, 1081957, 1083395, 1083683, 1089000, 1090202, 1095349, 1100000, 1103757, 1107542, 1108983, 1117920, 1118634, 1119368, 1120000, 1128345, 1129000, 1132112, 1133031, 1136883, 1143856, 1144575, 1145404, 1148752, 1160268, 1162014, 1163450, 1163967, 1169603, 1171559, 1178196, 1183258, 1188194, 1192322, 1198346, 1200000, 1200398, 1213880, 1214198, 1214525, 1215691, 1221832, 1223326, 1227324, 1236094, 1237615, 1243177, 1244381, 1246141, 1250000, 1250712, 1258000, 1260761, 1261947, 1262691, 1270522, 1271244, 1275162, 1276000, 1277401, 1289998, 1294480, 1296937, 1296971, 1300000, 1301121, 1301696, 1305114, 1305195, 1314053, 1320005, 1325092, 1327740, 1328467, 1330828, 1331651, 1332231, 1333124, 1334786, 1339650, 1345236, 1347747, 1347988, 1353868, 1359497, 1370000, 1382462, 1397284, 1400000, 1402307, 1404291, 1407457, 1411927, 1420586, 1422749, 1423000, 1428291, 1429299, 1430505, 1434436, 1443067, 1447740, 1449945, 1450000, 1453270, 1461989, 1473809, 1476356, 1477002, 1479042, 1492523, 1499275, 1500000, 1519796, 1522000, 1524966, 1526448, 1528163, 1531251, 1531489, 1543112, 1544889, 1544973, 1548955, 1558836, 1568749, 1574623, 1576687, 1579260, 1594955, 1596371, 1596687, 1598584, 1600000, 1605463, 1606624, 1608570, 1611000, 1614266, 1641825, 1644755, 1646788, 1650000, 1653792, 1659542, 1666511, 1667192, 1672940, 1675706, 1680358, 1686429, 1691706, 1700000, 1705030, 1710057, 1710528, 1723379, 1725381, 1725841, 1730000, 1736123, 1744164, 1749457, 1749956, 1752038, 1755212, 1766761, 1772000, 1776333, 1776935, 1777043, 1783421, 1791328, 1796389, 1798500, 1800000, 1810000, 1813729, 1818075, 1829917, 1841260, 1851517, 1878561, 1880736, 1883811, 1884814, 1891907, 1893139, 1913973, 1918117, 1919197, 1919653, 1920000, 1921923, 1923918, 1928985, 1929168, 1940234, 1942423, 1943649, 1954937, 1963756, 1969193, 1980338, 1985001, 1988962, 1995012, 1996326, 1997807, 1999955, 2000000, 2011837, 2013193, 2015810, 2015882, 2016000, 2019000, 2019469, 2020700, 2021735, 2023414, 2025032, 2025238, 2028612, 2033165, 2040920, 2041000, 2043704, 2045184, 2049595, 2054941, 2066633, 2067940, 2075084, 2077763, 2078370, 2080529, 2084628, 2100000, 2106557, 2106838, 2110516, 2115765, 2119994, 2120439, 2128186, 2133033, 2146041, 2147000, 2152738, 2154696, 2160298, 2181987, 2197921, 2200000, 2216318, 2225098, 2225698, 2227000, 2228115, 2242002, 2246142, 2260622, 2260712, 2262223, 2265626, 2270000, 2275557, 2279000, 2280148, 2281000, 2281585, 2287714, 2293798, 2294291, 2297493, 2300000, 2331721, 2333684, 2334228, 2340110, 2341226, 2341309, 2341534, 2346150, 2347000, 2351359, 2357852, 2363584, 2365467, 2367161, 2368000, 2368060, 2375097, 2387127, 2387928, 2390525, 2395231, 2400000, 2405420, 2411145, 2413427, 2415396, 2426851, 2438031, 2438304, 2451545, 2452566, 2455027, 2455831, 2459000, 2459895, 2465960, 2466444, 2468000, 2474000, 2479538, 2480326, 2484095, 2492001, 2494480, 2500000, 2500431, 2503829, 2505528, 2506446, 2513511, 2520000, 2527904, 2536386, 2541554, 2544504, 2550000, 2550321, 2550508, 2550863, 2556911, 2566717, 2570145, 2585639, 2586511, 2587072, 2594000, 2600000, 2606000, 2610000, 2611555, 2614773, 2616503, 2626800, 2633527, 2636637, 2642983, 2647055, 2665322, 2666118, 2681345, 2685000, 2685453, 2689068, 2692037, 2692748, 2693053, 2699265, 2700000, 2725258, 2735731, 2744253, 2750275, 2750741, 2770941, 2777280, 2800000, 2801508, 2802459, 2807390, 2807854, 2816116, 2822761, 2830775, 2832826, 2841000, 2849142, 2850000, 2850263, 2853801, 2856712, 2859750, 2877571, 2884265, 2891288, 2892597, 2896000, 2899975, 2900000, 2914328, 2915767, 2916444, 2944752, 2945242, 2945600, 2948386, 2955039, 2955917, 2956000, 2957978, 2960000, 2963902, 2967668, 2975184, 3000000, 3011195, 3012210, 3020784, 3029287, 3031801, 3045943, 3094813, 3097257, 3099230, 3099314, 3099497, 3100000, 3102550, 3106559, 3106835, 3109904, 3110799, 3123963, 3125424, 3149062, 3151130, 3154346, 3165000, 3166000, 3169719, 3179847, 3180674, 3184472, 3191998, 3193102, 3200000, 3206713, 3208262, 3210139, 3218666, 3221152, 3221568, 3237520, 3250000, 3251794, 3261638, 3263585, 3275585, 3282232, 3295624, 3300000, 3301446, 3302463, 3309421, 3311162, 3325038, 3335984, 3337685, 3346257, 3346265, 3360000, 3371692, 3396726, 3400000, 3400278, 3411885, 3412497, 3418141, 3423685, 3428048, 3430018, 3432342, 3435047, 3442853, 3453043, 3460466, 3468572, 3469151, 3484331, 3494070, 3500000, 3501037, 3504875, 3515061, 3527636, 3533227, 3538446, 3550000, 3554460, 3558669, 3566637, 3569939, 3572443, 3587303, 3603484, 3606395, 3623330, 3639926, 3643591, 3646994, 3662459, 3669465, 3675201, 3685862, 3696232, 3704408, 3719383, 3721345, 3727746, 3728888, 3758328, 3769990, 3779620, 3786801, 3800000, 3803298, 3813293, 3814868, 3818452, 3820195, 3826459, 3830137, 3848034, 3867000, 3878993, 3885342, 3897799, 3900000, 3903479, 3911200, 3916195, 3916303, 3919731, 3924527, 3960327, 3964682, 3983912, 3989297, 4000000, 4001121, 4001919, 4026795, 4029886, 4040588, 4059673, 4064495, 4069826, 4073489, 4074023, 4078741, 4099000, 4100000, 4104962, 4105187, 4122748, 4132000, 4137645, 4159678, 4160851, 4165675, 4176932, 4186931, 4190750, 4200000, 4201176, 4205000, 4210454, 4217115, 4250507, 4257354, 4267218, 4278150, 4290020, 4291965, 4299023, 4300000, 4303351, 4307000, 4314688, 4327000, 4335968, 4343227, 4349187, 4352094, 4367497, 4372130, 4385312, 4385516, 4386236, 4388563, 4398938, 4400000, 4409328, 4417667, 4420000, 4424699, 4428000, 4439431, 4491986, 4500000, 4507463, 4509301, 4527513, 4529843, 4530929, 4532791, 4554065, 4574762, 4588176, 4600000, 4601043, 4601256, 4603929, 4619014, 4627375, 4634062, 4636165, 4658570, 4678405, 4693236, 4700000, 4706919, 4711220, 4720371, 4762337, 4781454, 4786789, 4800000, 4803565, 4803665, 4811525, 4836637, 4842617, 4846415, 4855506, 4856298, 4858139, 4861022, 4864560, 4865912, 4882577, 4884663, 4900000, 4905000, 4910682, 4916135, 4916871, 4939939, 4956701, 4978922, 5000000, 5001655, 5010362, 5011944, 5028948, 5034794, 5042014, 5050000, 5070484, 5086000, 5086909, 5091888, 5093707, 5099316, 5100000, 5101756, 5108820, 5126264, 5128490, 5132274, 5132354, 5164404, 5169755, 5186646, 5200000, 5217498, 5231128, 5232000, 5241315, 5245263, 5249225, 5269990, 5273000, 5279982, 5297232, 5321508, 5330000, 5344577, 5355847, 5363000, 5364858, 5367030, 5380251, 5398976, 5400000, 5405500, 5406879, 5408194, 5410749, 5430822, 5446000, 5450815, 5475058, 5481471, 5495507, 5496951, 5500000, 5507396, 5535405, 5546827, 5549200, 5552441, 5556675, 5576725, 5585154, 5596267, 5600000, 5632086, 5634828, 5638000, 5659286, 5664764, 5669831, 5672031, 5676486, 5728940, 5738952, 5750401, 5758519, 5761917, 5765562, 5774854, 5775178, 5777916, 5778353, 5780000, 5781885, 5794184, 5800000, 5844868, 5849647, 5867686, 5876918, 5892466, 5900000, 5923000, 5923044, 5926128, 5926410, 5958315, 5972942, 5979011, 5979292, 5989640, 6000000, 6003587, 6007194, 6029091, 6029824, 6033999, 6069605, 6086508, 6100000, 6102076, 6110000, 6126237, 6132924, 6134438, 6153939, 6153967, 6166819, 6174491, 6191746, 6193901, 6203044, 6263224, 6264058, 6272403, 6278139, 6291958, 6330000, 6333135, 6341684, 6341855, 6375979, 6401336, 6413915, 6416302, 6423605, 6432551, 6455530, 6467348, 6472990, 6482195, 6485961, 6486797, 6488144, 6491240, 6500000, 6512004, 6521083, 6538177, 6575282, 6581915, 6582052, 6582065, 6584159, 6591038, 6593565, 6629178, 6638849, 6659377, 6660333, 6670680, 6682098, 6698361, 6700000, 6706368, 6723732, 6732980, 6739141, 6742168, 6746000, 6797218, 6800000, 6808550, 6833445, 6834525, 6841570, 6842058, 6860853, 6877900, 6880310, 6890000, 6892000, 6892098, 6901965, 6928068, 6933459, 6939946, 6948633, 6971266, 6982465, 7000000, 7002261, 7011317, 7022209, 7022728, 7025496, 7029858, 7033683, 7034007, 7071143, 7086000, 7087452, 7096000, 7100000, 7123919, 7176347, 7177431, 7191399, 7200000, 7206220, 7211180, 7218340, 7230000, 7232965, 7241180, 7242035, 7250000, 7270000, 7282851, 7286388, 7292175, 7299662, 7300000, 7305209, 7314027, 7339398, 7343114, 7355425, 7356393, 7369373, 7385434, 7401480, 7411659, 7412216, 7433663, 7434726, 7439448, 7449681, 7478544, 7500000, 7523634, 7527232, 7532911, 7535331, 7545758, 7553105, 7563728, 7566000, 7566841, 7600000, 7603766, 7630000, 7632420, 7640680, 7644937, 7649973, 7680000, 7683267, 7690013, 7700000, 7701707, 7704357, 7723506, 7770731, 7778177, 7785317, 7800000, 7820688, 7823256, 7825000, 7830611, 7871522, 7875862, 7897645, 7900000, 7928149, 7938872, 7959291, 7985929, 7993039, 8000000, 8009329, 8033397, 8038061, 8041049, 8050806, 8059140, 8089290, 8091910, 8096542, 8100000, 8112712, 8135031, 8141292, 8198518, 8200000, 8212430, 8235661, 8250000, 8251071, 8303261, 8306690, 8315693, 8316206, 8342132, 8362969, 8380329, 8403433, 8413144, 8434146, 8454301, 8478434, 8484418, 8493728, 8493890, 8500000, 8524534, 8533973, 8551228, 8555008, 8556940, 8586376, 8586944, 8654322, 8667684, 8674093, 8679814, 8690429, 8692426, 8727994, 8762890, 8800000, 8801940, 8810591, 8826094, 8838757, 8844595, 8880045, 8880705, 8888143, 8894289, 8900000, 8910819, 8927600, 8929413, 8946600, 8988731, 8992523, 8996802, 9000000, 9012000, 9027600, 9056073, 9072024, 9077700, 9080818, 9100000, 9101546, 9104716, 9112193, 9114264, 9114702, 9116968, 9127383, 9128263, 9138338, 9166810, 9172000, 9194350, 9200000, 9200168, 9205924, 9206470, 9234510, 9247881, 9250000, 9304609, 9317021, 9323833, 9335192, 9438370, 9440272, 9479718, 9494789, 9496130, 9500000, 9504139, 9510000, 9518342, 9532895, 9566593, 9576495, 9600000, 9602624, 9620399, 9622846, 9627492, 9630444, 9636289, 9644124, 9700000, 9705840, 9722918, 9760104, 9793496, 9797098, 9800000, 9831515, 9851610, 9868521, 9868942, 9873044, 9879971, 9900000, 9995168, 10000000, 10011050, 10012022, 10016934, 10017322, 10051659, 10089373, 10113733, 10130000, 10158000, 10165694, 10166459, 10166502, 10198357, 10224116, 10229331, 10250000, 10278549, 10289397, 10300000, 10312540, 10329747, 10337387, 10364904, 10367161, 10372291, 10375893, 10382407, 10400000, 10409377, 10424470, 10442808, 10443316, 10462500, 10494545, 10496317, 10499694, 10501938, 10569964, 10600000, 10600497, 10604986, 10611160, 10626725, 10629321, 10631333, 10639686, 10667893, 10676194, 10680275, 10686841, 10703234, 10719357, 10725228, 10736401, 10743000, 10755447, 10785801, 10814122, 10827810, 10827816, 10835752, 10848783, 10878107, 10882920, 10900000, 10900434, 10903846, 10941643, 10959475, 11000000, 11000863, 11030861, 11087569, 11100000, 11122090, 11129057, 11130889, 11137801, 11146270, 11165901, 11171900, 11176469, 11224491, 11285588, 11293663, 11303040, 11359129, 11364985, 11373501, 11403529, 11411644, 11466088, 11472454, 11486880, 11500000, 11502151, 11534477, 11540607, 11560806, 11567217, 11567449, 11582891, 11585483, 11600000, 11642254, 11657385, 11672363, 11715321, 11718595, 11724119, 11740000, 11744471, 11750000, 11772461, 11774200, 11787127, 11798616, 11798854, 11800000, 11817275, 11833696, 11838218, 11850214, 11871365, 11875866, 11879046, 11942780, 11988469, 11992014, 12000000, 12005838, 12007070, 12008642, 12017369, 12021272, 12032983, 12036149, 12065892, 12077441, 12096300, 12104595, 12121618, 12141122, 12145169, 12186625, 12195695, 12200000, 12206028, 12225023, 12232628, 12241855, 12277096, 12281551, 12299668, 12303411, 12303904, 12314651, 12320393, 12342632, 12348905, 12353768, 12355798, 12371132, 12379402, 12382362, 12396383, 12398628, 12400000, 12413650, 12416686, 12421716, 12434778, 12454768, 12482775, 12484444, 12496155, 12500000, 12506188, 12512637, 12520799, 12532777, 12534817, 12534961, 12633747, 12706478, 12729675, 12729917, 12764201, 12767815, 12800000, 12805400, 12854953, 12890752, 12918858, 12935800, 12947880, 12951088, 12963702, 12975143, 12991996, 13000000, 13004198, 13008928, 13015688, 13022756, 13030214, 13035599, 13082071, 13092000, 13101672, 13102295, 13129846, 13131714, 13145977, 13167232, 13168027, 13218980, 13239000, 13249535, 13260050, 13269963, 13273595, 13275000, 13290368, 13300000, 13368437, 13380561, 13391174, 13401952, 13411957, 13417292, 13418091, 13422333, 13446769, 13474588, 13500000, 13521829, 13555988, 13565059, 13601384, 13620075, 13668149, 13670688, 13677222, 13680000, 13681765, 13749809, 13767037, 13801755, 13819139, 13831503, 13842409, 13865435, 13878334, 13885802, 13940383, 13985225, 13994920, 14000000, 14010832, 14016568, 14061361, 14063331, 14096321, 14100000, 14109284, 14110013, 14110589, 14134877, 14144000, 14155617, 14166853, 14170000, 14182492, 14188490, 14200000, 14225876, 14250000, 14278900, 14301505, 14311701, 14332467, 14333790, 14334401, 14347000, 14348529, 14356479, 14363400, 14373825, 14397593, 14400000, 14431253, 14460000, 14483352, 14487294, 14493284, 14500000, 14564027, 14567883, 14631377, 14643997, 14681661, 14683921, 14700000, 14708696, 14710975, 14711793, 14715067, 14723313, 14743391, 14751272, 14776760, 14782676, 14793385, 14793624, 14796236, 14800000, 14812000, 14817006, 14821658, 14822346, 14859394, 14899417, 14961069, 15000000, 15007991, 15008161, 15020702, 15073942, 15119639, 15121165, 15134293, 15156200, 15185241, 15238994, 15240435, 15260000, 15298355, 15300000, 15304890, 15306000, 15313606, 15368897, 15369573, 15427192, 15429177, 15436808, 15473333, 15478800, 15480000, 15500000, 15502112, 15520023, 15543000, 15550000, 15556340, 15600000, 15608545, 15610000, 15614000, 15636462, 15667104, 15691192, 15699707, 15700000, 15704614, 15705007, 15730665, 15826984, 15861566, 15942628, 15945534, 16000000, 16017403, 16093651, 16116878, 16118077, 16123851, 16159325, 16174377, 16209459, 16215856, 16217773, 16283667, 16290976, 16300000, 16316273, 16318124, 16324573, 16337881, 16361885, 16374328, 16453258, 16478900, 16491080, 16504936, 16505460, 16519460, 16534578, 16540000, 16549477, 16589540, 16605763, 16624456, 16627188, 16649539, 16661077, 16724933, 16756372, 16757163, 16790139, 16809014, 16856124, 16863583, 16872671, 16872691, 16894678, 16928137, 16929123, 16930185, 16930884, 16951798, 16974459, 16980098, 17000000, 17005229, 17014653, 17037887, 17040871, 17062499, 17092453, 17096053, 17137302, 17180393, 17193231, 17218023, 17218080, 17233166, 17240000, 17280326, 17286299, 17297244, 17300889, 17307019, 17322136, 17343596, 17380126, 17385830, 17423030, 17432163, 17460020, 17500000, 17506878, 17511906, 17514553, 17519169, 17535962, 17544173, 17566040, 17570324, 17626234, 17637950, 17643857, 17654912, 17665000, 17671101, 17693675, 17709155, 17752940, 17768757, 17768900, 17808683, 17834865, 17834867, 17850711, 17869048, 17883410, 17894345, 17900000, 17949758, 17953778, 17985893, 17986781, 18000000, 18035000, 18050000, 18074539, 18090181, 18099091, 18100189, 18112929, 18115724, 18124262, 18130000, 18137661, 18144030, 18253415, 18300000, 18309793, 18340000, 18377736, 18432000, 18469680, 18492362, 18535191, 18553948, 18564088, 18591272, 18593156, 18599102, 18610260, 18618284, 18634643, 18634654, 18637690, 18644570, 18653615, 18662027, 18671317, 18686644, 18704595, 18720175, 18730891, 18750246, 18753438, 18755936, 18782400, 18803648, 18814720, 18869631, 18875011, 18899204, 18928871, 18948425, 18999718, 19000000, 19010585, 19030691, 19030780, 19054534, 19059053, 19109023, 19125401, 19131000, 19145732, 19152480, 19165560, 19170001, 19179969, 19184015, 19204929, 19246174, 19255873, 19255967, 19265302, 19271312, 19288130, 19300483, 19322135, 19406406, 19412993, 19450000, 19472057, 19496308, 19504039, 19510371, 19560274, 19576023, 19595031, 19633027, 19660000, 19682924, 19693891, 19700000, 19738015, 19740070, 19748009, 19776159, 19777647, 19800000, 19829957, 19844979, 19853892, 19870567, 19888231, 19924033, 19978961, 20000000, 20016254, 20045115, 20047604, 20079850, 20112926, 20117339, 20138836, 20146880, 20158808, 20217080, 20225989, 20246790, 20256975, 20275812, 20300385, 20324096, 20342161, 20345361, 20348249, 20350754, 20381995, 20400000, 20416563, 20419446, 20423389, 20455276, 20471382, 20483423, 20497844, 20518905, 20545116, 20552094, 20560255, 20609977, 20627372, 20645327, 20666667, 20667959, 20719451, 20722843, 20725409, 20766616, 20794985, 20796847, 20867919, 20908467, 20915465, 20957001, 20967660, 21000000, 21001563, 21009180, 21011500, 21026290, 21028755, 21032267, 21049053, 21095683, 21107746, 21126225, 21134374, 21170563, 21200000, 21302121, 21353303, 21360215, 21378361, 21384035, 21458229, 21486757, 21500000, 21502976, 21520719, 21591728, 21630088, 21633874, 21706101, 21750000, 21766271, 21790193, 21819348, 21834845, 21930418, 22000000, 22030000, 22044277, 22099847, 22159216, 22168359, 22179430, 22182353, 22200000, 22211426, 22212223, 22228000, 22231658, 22244207, 22257624, 22320893, 22400154, 22433915, 22441323, 22456509, 22471595, 22512655, 22518097, 22525668, 22540359, 22587000, 22593409, 22611954, 22642033, 22678555, 22707064, 22730842, 22750363, 22765081, 22799033, 22800000, 22832174, 22835787, 22852638, 22863596, 22896728, 22921898, 22942221, 22944502, 22955097, 23000000, 23083334, 23109809, 23144499, 23159305, 23198652, 23200000, 23202734, 23217674, 23278931, 23311391, 23316139, 23324363, 23341568, 23507567, 23509382, 23510601, 23530831, 23550000, 23563727, 23570541, 23580000, 23686027, 23689877, 23774400, 23800000, 23803308, 23875127, 23937870, 23964782, 23978402, 24000000, 24007324, 24048000, 24058838, 24071666, 24164400, 24186232, 24188922, 24243825, 24340302, 24426169, 24441725, 24444121, 24464742, 24467000, 24600832, 24637469, 24640027, 24719215, 24748670, 24760338, 24793509, 24816118, 24854765, 24902723, 24911670, 24922237, 24931915, 24945497, 25000000, 25005257, 25023434, 25037897, 25052000, 25059640, 25100000, 25105255, 25105517, 25147055, 25174316, 25205460, 25224242, 25232289, 25288872, 25308147, 25312387, 25327500, 25333333, 25343661, 25345000, 25399945, 25405445, 25434291, 25480490, 25504513, 25513752, 25601244, 25605015, 25724305, 25739015, 25754284, 25762027, 25792310, 25804707, 25819961, 25836616, 25842000, 25852764, 25900000, 26000000, 26049082, 26155781, 26250020, 26279000, 26414658, 26441892, 26488734, 26501323, 26522838, 26533200, 26559557, 26570463, 26589000, 26657534, 26667197, 26673242, 26713187, 26828365, 26877589, 26888376, 27000000, 27007072, 27053815, 27100027, 27107960, 27122040, 27139524, 27150534, 27187375, 27187653, 27200316, 27206120, 27333835, 27362712, 27365467, 27379978, 27388767, 27391084, 27397655, 27400000, 27412220, 27437881, 27462041, 27500000, 27515786, 27526961, 27540561, 27603069, 27634716, 27640028, 27642707, 27645491, 27674124, 27728118, 27734391, 27762648, 27900000, 27926871, 28000000, 28023563, 28084357, 28121100, 28128670, 28169671, 28200000, 28215453, 28234657, 28356188, 28430000, 28451622, 28460702, 28575078, 28607524, 28623900, 28646544, 28700000, 28717000, 28733290, 28735315, 28744356, 28747837, 28780255, 28818995, 28881266, 28931401, 28972508, 29000000, 29000301, 29007412, 29027914, 29133000, 29163535, 29170410, 29180280, 29193330, 29200000, 29202884, 29235353, 29252978, 29300000, 29359216, 29381649, 29381956, 29385320, 29400000, 29413900, 29450919, 29456000, 29541790, 29548291, 29612137, 29625761, 29657751, 29700000, 29712172, 29789000, 29819114, 29907685, 29916207, 29918745, 29922472, 29950000, 30000000, 30002758, 30036000, 30041730, 30050028, 30060061, 30112050, 30114487, 30156002, 30169000, 30177511, 30218387, 30226144, 30229977, 30231200, 30238577, 30331165, 30332385, 30399676, 30418560, 30448000, 30471420, 30500000, 30553395, 30600000, 30626182, 30641770, 30652890, 30688860, 30700000, 30800231, 30822861, 30857814, 30859000, 30900000, 30925690, 30991660, 31000000, 31063038, 31148328, 31155435, 31278476, 31327899, 31355910, 31451622, 31466789, 31500000, 31517561, 31554855, 31596911, 31609243, 31611225, 31623833, 31635150, 31678778, 31720158, 31794718, 31800000, 31853080, 31911598, 31912793, 31987563, 32000000, 32005248, 32017803, 32095318, 32101000, 32155047, 32204030, 32222567, 32230907, 32255440, 32358664, 32416586, 32438988, 32474120, 32482682, 32492674, 32500000, 32511047, 32540674, 32562782, 32645546, 32709423, 32710894, 32726956, 32801173, 32935319, 32973937, 33000000, 33086611, 33177694, 33231264, 33256058, 33333531, 33422806, 33463969, 33561137, 33662874, 33692510, 33759266, 33788161, 33889159, 33965843, 33974264, 34000000, 34017028, 34077920, 34100000, 34134173, 34153101, 34234008, 34266564, 34300000, 34368475, 34441873, 34500000, 34505110, 34533783, 34566746, 34592118, 34604000, 34619699, 34725000, 34793160, 34854990, 34942188, 34994648, 35000000, 35057696, 35081550, 35097815, 35134820, 35150960, 35294470, 35300645, 35323292, 35401758, 35419397, 35424826, 35485056, 35564473, 35598376, 35610100, 35649012, 35692920, 35739755, 35743308, 35763605, 35856053, 35892330, 35926213, 35991087, 36000000, 36037909, 36133014, 36160375, 36230219, 36236710, 36348784, 36448200, 36450736, 36489888, 36606743, 36611610, 36620508, 36754634, 36779296, 36782781, 36800000, 36869414, 36893721, 36993168, 37020277, 37036004, 37095657, 37141130, 37170057, 37279439, 37317558, 37589296, 37597471, 37600000, 37664855, 37672350, 37691644, 37707444, 37713879, 37767206, 37799643, 37823676, 37915971, 37962774, 38000000, 38016380, 38058335, 38068353, 38085778, 38105395, 38119483, 38122105, 38135878, 38172500, 38251106, 38368909, 38399961, 38413606, 38435947, 38505009, 38535221, 38574362, 38610009, 38619405, 38629478, 38702310, 38748395, 38804615, 38862717, 38869464, 38901218, 38934048, 38955598, 38981322, 38992758, 39000000, 39031337, 39053061, 39055536, 39103425, 39143839, 39171130, 39187783, 39404261, 39407616, 39438674, 39459427, 39667665, 39673161, 39673162, 40000000, 40002112, 40050884, 40100000, 40222729, 40266982, 40272135, 40283321, 40346186, 40356000, 40400657, 40423945, 40442437, 40452643, 40462793, 40471663, 40485039, 40547440, 40577001, 40590000, 40693477, 40697761, 40716963, 40766041, 40828540, 40846082, 40854735, 40924982, 41037742, 41087017, 41092328, 41158757, 41170784, 41230799, 41299492, 41323171, 41325328, 41387687, 41400000, 41424067, 41597830, 41604473, 41637263, 41657844, 41675194, 41744718, 41797066, 41833347, 41867960, 41895491, 41954997, 42000000, 42064105, 42067430, 42070000, 42160849, 42277365, 42291572, 42300873, 42313354, 42365581, 42426912, 42487390, 42647449, 42690682, 42700000, 42724017, 42776760, 42886719, 42930462, 43000000, 43008075, 43042835, 43051547, 43059790, 43070915, 43165571, 43203413, 43300000, 43306325, 43312294, 43318349, 43440294, 43455230, 43515982, 43528634, 43579163, 43625095, 43656822, 43763247, 43884652, 43885000, 43928932, 43935763, 43984230, 43995918, 44057737, 44065653, 44095996, 44287131, 44332015, 44350926, 44400000, 44456478, 44460850, 44703995, 44785053, 44793222, 44806783, 44862187, 44907260, 44908000, 44909486, 44922302, 45000000, 45056771, 45172994, 45236543, 45361000, 45610410, 45631901, 45636368, 45681173, 45710059, 45735397, 45833132, 45858563, 45892212, 45967935, 46000000, 46089287, 46118097, 46189568, 46201432, 46216641, 46221189, 46236000, 46264384, 46357676, 46372519, 46396427, 46434570, 46442528, 46471023, 46546197, 46597100, 46616067, 46665856, 46683377, 46720491, 46770602, 46836394, 46905889, 46908987, 47042000, 47088457, 47098491, 47126295, 47231070, 47267001, 47351251, 47355187, 47383689, 47410000, 47434430, 47494916, 47664559, 47738099, 47756590, 48017402, 48063435, 48065672, 48126384, 48143579, 48169156, 48169908, 48190704, 48350205, 48418160, 48428063, 48451803, 48453605, 48531470, 48563556, 48572000, 48585416, 48720000, 48814909, 48818723, 48902953, 49000000, 49042224, 49050886, 49078000, 49364621, 49380115, 49554002, 49718611, 49779728, 49823037, 49830607, 50000000, 50020902, 50021959, 50054511, 50068310, 50100000, 50282766, 50301159, 50315140, 50504655, 50650079, 50671850, 50673078, 50700000, 50750000, 50817508, 50888000, 50892160, 50907234, 50907422, 51000000, 51001550, 51053787, 51079064, 51132598, 51142659, 51148651, 51155219, 51164106, 51169464, 51249404, 51376861, 51416464, 51680201, 51723285, 51749995, 51764406, 51881013, 52034889, 52096475, 52223306, 52287414, 52304001, 52395996, 52424533, 52501541, 52545707, 52597999, 52659594, 52826594, 52882018, 52946454, 52970014, 53000000, 53165427, 53181600, 53187659, 53208180, 53267000, 53293628, 53302314, 53396354, 53478166, 53542417, 53579269, 53672080, 53774397, 53825515, 53830415, 53847136, 53898845, 53939297, 53977250, 54000000, 54215416, 54586584, 54600000, 54667954, 54674226, 54682547, 54700105, 54744738, 54819301, 54837234, 54926886, 54956140, 54999651, 55000000, 55003135, 55041738, 55157539, 55184721, 55198285, 55247881, 55443032, 55447968, 55478164, 55635037, 55675257, 55987321, 56000000, 56032889, 56100000, 56255142, 56298474, 56303596, 56308881, 56422687, 56489558, 56505065, 56681566, 56702901, 56714147, 56996304, 57041866, 57076286, 57103895, 57114049, 57120318, 57138719, 57269863, 57384179, 57400547, 57479076, 57490374, 57500000, 57777106, 57891803, 57958696, 58400000, 58401898, 58500000, 58620973, 58785180, 58900031, 58972904, 58978653, 59192128, 59217789, 59284015, 59418613, 59520298, 59600000, 59612888, 59827328, 59908565, 60000000, 60052138, 60072596, 60088980, 60141683, 60161391, 60222298, 60251371, 60273173, 60328558, 60378584, 60474340, 60487945, 60722734, 60726164, 60780981, 60845711, 60896147, 60922980, 61000000, 61037844, 61181942, 61255921, 61276872, 61347797, 61399552, 61489265, 61503218, 61619773, 61621140, 61700416, 61746888, 61788393, 61947267, 62000000, 62022014, 62076141, 62112895, 62172050, 62357900, 62493712, 62616646, 62646763, 62771059, 63013281, 63027681, 63100000, 63215872, 63372757, 63408614, 63464861, 63541777, 63647656, 63710000, 63766510, 63781810, 63782078, 64088552, 64110728, 64191523, 64238440, 64241499, 64256513, 64282312, 64321501, 64352607, 64414761, 64437847, 64445708, 64493915, 64762724, 64783827, 64978931, 65046687, 65070412, 65088797, 65146020, 65464324, 65535067, 65565672, 65584679, 65595485, 65664721, 65742992, 65796862, 65977295, 66000000, 66002004, 66023329, 66132626, 66265218, 66293455, 66673516, 66700000, 66787908, 66821036, 66925842, 67112664, 67131266, 67182787, 67192859, 67200000, 67308282, 67312826, 67347013, 67414985, 67631903, 67642693, 67683989, 67738090, 67760877, 67872296, 67918658, 68000000, 68233629, 68263166, 68267862, 68369434, 68377859, 68392977, 68397662, 68411275, 68572378, 68673228, 68896829, 68915888, 68929150, 69055695, 69131860, 69411370, 69497587, 69623713, 69660733, 69700000, 69766483, 69766619, 69929545, 69959751, 69995385, 70000000, 70067909, 70136369, 70687344, 70742948, 70960003, 71000000, 71073932, 71079915, 71154592, 71215869, 71485043, 71561644, 71594792, 71641901, 71664962, 71868327, 72028752, 72108608, 72179579, 72258126, 72266306, 72282227, 72457330, 72500000, 72617068, 72629670, 73090611, 73100172, 73180723, 73276047, 73326666, 73515024, 73521587, 73866088, 73956241, 74000000, 74134790, 74188937, 74189677, 74237563, 74541707, 74558115, 74597643, 74608570, 74679822, 74787599, 74865517, 74901339, 75000000, 75026965, 75100000, 75225693, 75395048, 75450437, 75511123, 75597042, 75781642, 75836683, 75850624, 75871032, 75993061, 76000000, 76432727, 76447420, 76488889, 76514050, 76578641, 76586316, 76657000, 76669806, 76858273, 76932943, 77200000, 77208711, 77278331, 77477008, 77516304, 77712439, 77912251, 77944725, 77947607, 78000586, 78054825, 78096553, 78247647, 78371200, 78382433, 78568977, 78636257, 78638987, 78720293, 78756177, 78868508, 78898765, 79082515, 79258538, 79567667, 79666653, 79700000, 79799880, 79958599, 80035402, 80154140, 80253908, 80383290, 80509622, 80547866, 80573774, 80630608, 80916492, 81093313, 81170000, 81452156, 81927980, 81967450, 81974493, 82087155, 82102379, 82124805, 82150183, 82150642, 82391145, 82394288, 82466670, 82719885, 82800000, 82966152, 83073883, 83080890, 83160734, 83188165, 83258226, 83304330, 83320000, 83519699, 83531958, 83557872, 83615414, 83686340, 83719388, 84025816, 84431625, 84460846, 84500000, 84563118, 84565230, 84601681, 84606030, 84772742, 85000000, 85167639, 85280250, 85300000, 85306374, 85412898, 85416905, 85512300, 85564310, 85632458, 85978266, 86026201, 86175291, 86234523, 86273333, 86362372, 86369815, 86658558, 86758912, 87000000, 87055349, 87100449, 87320000, 87404651, 87528173, 87754044, 87840042, 87970000, 88025781, 88036683, 88058786, 88323487, 88346473, 88489643, 88528280, 88545092, 88658655, 88761661, 88880821, 88923251, 89203432, 89289910, 89328627, 89519773, 89792502, 89800000, 90000000, 90000098, 90247624, 90404800, 90426405, 90450008, 90508336, 90574188, 90683916, 90747520, 90754475, 90810892, 90815558, 91000000, 91188905, 91244913, 91354215, 91379051, 91636986, 91709827, 91753202, 91974818, 92108679, 92180910, 92374674, 92380927, 92503612, 92542418, 92601050, 92823546, 92921203, 92991835, 93246388, 93354918, 93375151, 93600000, 93945766, 93974620, 94000000, 94061311, 94216343, 94679598, 94882889, 94935764, 95020213, 95226116, 95311434, 95396573, 95404397, 95427515, 95437994, 95438172, 95461682, 95608995, 95673925, 95904091, 96070507, 96085477, 96105964, 96455697, 96542059, 96618699, 96800000, 96900000, 96976270, 97529550, 97542952, 97552050, 97571250, 97594140, 97837138, 98159963, 98185582, 98267558, 98337295, 98376292, 98441954, 98625775, 98837872, 99067206, 99138899, 99206215, 99423521, 99849421, 99965753, 100000000, 100020092, 100076342, 100138851, 100176000, 100230832, 100297064, 100491683, 100523181, 100525432, 100546153, 100853753, 101134059, 101191884, 101229792, 101300000, 101371017, 101564935, 101595121, 101624843, 101646581, 101702060, 101758490, 102000000, 102205175, 102223269, 102367405, 102391540, 102600000, 102616183, 102820008, 102836002, 102854431, 103039258, 103071443, 103131994, 103173635, 103197501, 103590271, 103738726, 103891409, 103911669, 104155843, 104236467, 104303851, 104324083, 104384188, 104478416, 104907746, 104945305, 104945765, 105178561, 105197635, 105200903, 105232691, 106260000, 106303988, 106683817, 107071655, 107198790, 107597242, 107670357, 107944236, 108000000, 108103450, 108145109, 108255770, 108286421, 108539911, 108609310, 108758521, 108979549, 109000000, 109280263, 109578115, 109862682, 109906372, 110000000, 110206216, 110803676, 110879513, 111127553, 111231041, 111340801, 111353135, 111584787, 111811453, 111858363, 112343513, 112399944, 112483764, 112790210, 112892319, 113019290, 113020255, 113086475, 113231078, 113280098, 113374103, 113493481, 113579918, 113857533, 113916474, 114194847, 114281051, 114660784, 114663461, 114830111, 114908830, 115103979, 115229890, 115267375, 115350426, 115772733, 115922175, 116000000, 116019547, 116300000, 116476887, 116643346, 116672912, 116700000, 116766556, 116980662, 117094902, 117224271, 117235147, 117487473, 117501013, 117615211, 117698894, 117719158, 117758500, 117932401, 118000000, 118034273, 118063304, 118338361, 118587880, 118880016, 119114517, 119137784, 119418501, 119520023, 119559110, 119601481, 119723358, 119723856, 119754278, 119772232, 119932733, 119940815, 119942387, 119946358, 120000000, 120081841, 120207127, 121059225, 121147947, 121214377, 121463226, 121975011, 122033739, 122233971, 122489822, 122529966, 122637878, 122650962, 122700000, 122801777, 122823468, 122919055, 123081555, 123114406, 123307945, 123494610, 123726688, 123729176, 124272124, 124305181, 124596398, 124731534, 124827316, 124881062, 125212904, 125586134, 125728258, 125729635, 126041322, 126069509, 126248813, 126297830, 126546518, 126546825, 126690726, 126737428, 127392239, 127766650, 127869379, 127906624, 128000000, 128107642, 128388320, 128406887, 128798265, 129181830, 129394835, 129795554, 130293714, 130358911, 130431368, 130786397, 131002597, 131016624, 131183530, 131282949, 131940411, 132274484, 132440069, 132675864, 132820716, 133365452, 133432856, 133752825, 133818283, 134095253, 134402450, 134582776, 135130999, 135330182, 135511030, 135680000, 136159423, 136267476, 136400000, 136621271, 136836156, 136982834, 137056262, 137298489, 137587063, 137783840, 138241022, 138259062, 138530565, 138700000, 139000000, 139352633, 139683000, 139804348, 140073390, 140161792, 140175006, 140807547, 141000000, 141047179, 141069860, 141195658, 141591324, 141654055, 141702264, 141774679, 142400065, 142940100, 144000000, 144056873, 144216468, 144492830, 145000000, 145374099, 145793296, 145896422, 146175066, 146198896, 146497771, 147298761, 147332697, 147568410, 147845033, 147880543, 147988192, 148100000, 148336445, 148412065, 148868835, 149044513, 149217355, 149295601, 149673788, 149705852, 150000000, 150166126, 150406466, 150483765, 150962475, 151161491, 151831537, 152000000, 152022101, 152036382, 152159461, 152263880, 152266007, 152368585, 152427960, 152500343, 152944660, 153083102, 153518974, 153698625, 153962963, 153997819, 154026136, 154906693, 154937680, 155446362, 155721132, 155760117, 156563139, 156822020, 156844753, 156974557, 157829576, 157887643, 158468292, 158674180, 158733820, 158851357, 159047649, 159313561, 159375308, 159616327, 159710793, 159773545, 160078586, 160188546, 160542134, 160602194, 161025640, 161772375, 161834276, 162000000, 162091208, 162146076, 162360636, 162944923, 163333893, 163442937, 163649270, 163670000, 163733697, 163876815, 164000000, 164433867, 164508066, 165335153, 165615285, 167184112, 167221571, 167722310, 167805466, 168167691, 168840000, 169332978, 169837010, 170362582, 170432927, 170764026, 171183863, 171269535, 171504407, 171504781, 171539887, 171627166, 171757863, 171963386, 172363301, 172989651, 173000000, 173013509, 173046663, 173185859, 173469516, 173567581, 173649015, 173921954, 173930596, 174503458, 174822325, 174999005, 175302354, 175372502, 176070171, 176885658, 177200000, 177394432, 177512032, 177856751, 178051587, 178120010, 178262620, 179033791, 179179718, 179246868, 179265204, 180557550, 180899045, 181001478, 181096164, 181466833, 181813770, 182016617, 182057016, 182066419, 182290266, 182300000, 182379278, 182968902, 183031272, 183293131, 183345589, 183474602, 183611771, 183953723, 184724494, 184925486, 185258983, 185260553, 185438673, 185798265, 185991646, 186053725, 186072214, 186883563, 187000000, 187500000, 187884007, 188441614, 189712432, 189833357, 189859560, 190212113, 190320568, 190458706, 191185897, 192330738, 192610372, 193000000, 193677158, 193772504, 194168700, 194647323, 194989655, 195268056, 195702811, 195745823, 196397415, 196781193, 197011982, 197183546, 197687603, 199200000, 199850315, 200000000, 200182160, 200185807, 201585328, 201596308, 201957688, 201965915, 202026112, 202292902, 202466756, 203388186, 203567857, 204594016, 204999686, 205298907, 205405498, 205703818, 206071502, 206678440, 208000000, 208076205, 209073645, 209154322, 209196298, 209221331, 209947037, 210308099, 211343479, 211643158, 211780824, 211989043, 212011111, 212385533, 212404396, 212874442, 213525736, 213893795, 214104620, 214179088, 215283742, 215862692, 216197492, 216485654, 216614388, 216763646, 216909830, 216972543, 217124280, 218340595, 218613188, 219103655, 219417255, 219851172, 220021259, 220673217, 221303188, 221600160, 222724172, 222809600, 223387299, 224920315, 225874228, 225933435, 225990978, 226904017, 226945087, 227799884, 227817248, 228738393, 229147509, 230884728, 231449203, 231605150, 232380243, 232617430, 232713139, 233093859, 233555708, 233685077, 233755553, 234801895, 234989584, 235666219, 235860116, 236350661, 237113184, 237202299, 237681299, 237994561, 239606210, 240697856, 240797623, 242295562, 242688965, 242717113, 242780960, 242875078, 242988466, 243240178, 243400000, 243843127, 244386864, 244527583, 244931766, 245360480, 245527149, 245623848, 245676146, 245924070, 246233113, 246941965, 246984278, 248118121, 248384621, 249288105, 249348933, 250200000, 250288523, 252276927, 252608480, 252909177, 253625427, 254212245, 254455986, 254700832, 255000211, 255105930, 258270008, 259207227, 260095987, 260696994, 261317921, 261572744, 263920180, 264105545, 264118201, 264218220, 266000000, 266614059, 266728738, 267447150, 268031828, 268157400, 268426634, 269958228, 269994119, 270248367, 270997378, 271430189, 273339556, 273552592, 274470394, 274703340, 274925095, 275293450, 275947313, 278019771, 278454358, 278731369, 280000000, 282570682, 284881603, 285176741, 285444603, 286168572, 286214286, 287506194, 287553595, 287928194, 288347692, 288383523, 288500217, 288747895, 288752301, 289847354, 290061297, 292351275, 293329073, 294804195, 295038508, 295212467, 296000000, 297138014, 299268508, 299457024, 299965036, 300135367, 300218018, 300257475, 304320254, 304654182, 305092201, 306941670, 307077295, 307166834, 308901585, 309457509, 309979994, 310634054, 310650585, 310669540, 311312624, 311594032, 311950384, 312016858, 312573423, 313542341, 314432665, 315156409, 315960074, 317375031, 318502923, 319494638, 319700000, 320689294, 321365567, 321455689, 321731527, 321885765, 325233863, 326551094, 327311859, 327803731, 329803958, 331926147, 332000000, 333000000, 333011068, 334615000, 336529144, 337580051, 340677200, 342695435, 343471816, 345141403, 347234916, 347434178, 347451894, 348807090, 348840316, 349424282, 349464664, 349779543, 350448145, 351040419, 351266433, 351583407, 352114312, 352194034, 352927224, 354825435, 356743061, 357986087, 358372926, 361832400, 362000072, 362211740, 362744280, 363258859, 363533271, 363889678, 367275019, 368027419, 368100420, 368307760, 368871007, 368875760, 369884651, 371353001, 371940071, 372234864, 374218673, 374251247, 375540831, 376141306, 377350553, 378827494, 378858340, 378882411, 381109762, 383257136, 385680446, 385900138, 389681935, 390493908, 391081192, 393616788, 396600000, 403170142, 404852543, 407602906, 408247917, 408579038, 410902662, 411348924, 413106170, 414211549, 415252786, 415484914, 415885488, 419665568, 422610419, 426480871, 429632142, 431971116, 432844677, 433677183, 433888866, 435000000, 440603537, 441306145, 441809770, 441818803, 442824138, 445000000, 448191819, 449326618, 450717150, 456758981, 457640427, 459270619, 463000000, 463517383, 469160692, 470490832, 471222889, 474171806, 474968763, 477200000, 478207520, 481840909, 482860185, 484409218, 484572835, 488533726, 491570967, 491868548, 494471524, 494878759, 497366869, 497409852, 500188435, 504050219, 505000000, 517526875, 520000000, 524028679, 525573161, 527068851, 529221154, 532950503, 542307423, 543513985, 543514353, 543934787, 544272402, 546388105, 549368315, 553799566, 553810228, 554987477, 562816256, 572700000, 579220560, 585174222, 585349010, 591739379, 599045960, 603900354, 605425157, 609841637, 611899420, 619021436, 623722818, 624026776, 630161890, 631442092, 634151679, 653355901, 653428261, 657818612, 657924295, 660940780, 675120017, 691210692, 705717432, 709709780, 709827462, 716392705, 741547413, 743559607, 745013115, 745600054, 752600867, 758539785, 769653595, 772776600, 783766341, 792965326, 794191988, 800526015, 821847012, 825532764, 829000000, 855013954, 857611174, 863756051, 870322670, 875457937, 877244782, 880166924, 890871626, 919838758, 920100000, 933959197, 938212738, 956019788, 958400000, 961000000, 962102237, 970761885, 976475550, 1004558444, 1028570889, 1031552585, 1045713802, 1056057273, 1066969703, 1073394593, 1081041287, 1091405097, 1108561013, 1118888979, 1131927996, 1143689193, 1153296293, 1214811252, 1241891456, 1274219009, 1341511219, 1405403694, 1519557910, 1656943394, 1671713208, 1845034188, 2046239637]\n"
          ],
          "name": "stdout"
        }
      ]
    },
    {
      "cell_type": "code",
      "metadata": {
        "scrolled": true,
        "id": "7rqaZodxkYhc",
        "colab": {
          "base_uri": "https://localhost:8080/"
        },
        "outputId": "1a55960c-0362-4c32-e9be-50a7ffba6b2d"
      },
      "source": [
        "print(train.budget.value_counts(dropna=False))\n",
        "print(list(train.budget.value_counts(dropna=False).sort_index().index))"
      ],
      "execution_count": null,
      "outputs": [
        {
          "output_type": "stream",
          "text": [
            "NaN           1487\n",
            "20000000.0     127\n",
            "25000000.0     122\n",
            "30000000.0     118\n",
            "15000000.0     111\n",
            "              ... \n",
            "10920000.0       1\n",
            "134000.0         1\n",
            "29500000.0       1\n",
            "10800000.0       1\n",
            "140777.0         1\n",
            "Name: budget, Length: 606, dtype: int64\n",
            "[1.0, 2.0, 3.0, 4.0, 5.0, 8.0, 10.0, 12.0, 14.0, 15.0, 18.0, 20.0, 25.0, 28.0, 40.0, 42.0, 45.0, 46.0, 50.0, 52.0, 93.0, 100.0, 218.0, 250.0, 344.0, 2500.0, 3000.0, 6000.0, 7000.0, 7300.0, 7500.0, 9888.0, 10000.0, 17000.0, 22361.0, 24500.0, 25000.0, 27000.0, 30000.0, 31192.0, 40000.0, 42000.0, 46000.0, 50000.0, 60000.0, 65000.0, 65700.0, 70000.0, 77532.0, 79000.0, 82000.0, 85000.0, 100000.0, 103000.0, 114000.0, 120000.0, 123000.0, 125000.0, 130000.0, 130178.0, 133000.0, 134000.0, 134005.0, 140777.0, 143000.0, 150000.0, 153000.0, 154790.0, 160000.0, 170000.0, 180000.0, 200000.0, 210000.0, 213084.0, 220000.0, 225000.0, 226408.0, 230000.0, 243000.0, 245000.0, 250000.0, 269062.0, 270000.0, 275576.0, 280379.0, 290000.0, 291000.0, 300000.0, 322000.0, 343000.0, 350000.0, 373000.0, 374000.0, 375000.0, 385373.0, 393750.0, 400000.0, 410000.0, 416000.0, 420000.0, 425000.0, 433000.0, 439000.0, 447524.0, 450000.0, 500000.0, 501717.0, 531374.0, 532673.0, 535000.0, 550000.0, 558000.0, 560000.0, 569217.0, 578034.0, 589000.0, 590000.0, 590235.0, 600000.0, 640000.0, 645180.0, 650000.0, 658000.0, 660000.0, 662141.0, 670000.0, 700000.0, 707503.0, 707990.0, 725000.0, 747000.0, 750000.0, 762241.0, 780000.0, 783000.0, 784170.0, 786675.0, 800000.0, 806948.0, 810000.0, 823258.0, 839727.0, 850000.0, 855000.0, 858000.0, 860000.0, 864000.0, 878000.0, 900000.0, 923000.0, 947000.0, 950000.0, 967686.0, 970000.0, 1000000.0, 1031764.0, 1052753.0, 1091000.0, 1100000.0, 1103000.0, 1114000.0, 1119000.0, 1130710.0, 1135654.0, 1154000.0, 1180280.0, 1200000.0, 1202007.0, 1227401.0, 1243000.0, 1250000.0, 1285000.0, 1288000.0, 1290000.0, 1300000.0, 1350000.0, 1365000.0, 1400000.0, 1453000.0, 1488423.0, 1500000.0, 1528000.0, 1549000.0, 1580000.0, 1600000.0, 1601792.0, 1644000.0, 1650000.0, 1670000.0, 1683000.0, 1686858.0, 1688000.0, 1700000.0, 1705235.0, 1707561.0, 1746964.0, 1750000.0, 1752000.0, 1790000.0, 1800000.0, 1850000.0, 1880006.0, 1884000.0, 1900000.0, 1920000.0, 1934000.0, 1950000.0, 1978000.0, 1987650.0, 2000000.0, 2079000.0, 2090000.0, 2100000.0, 2133000.0, 2135161.0, 2153912.0, 2159280.0, 2200000.0, 2238813.0, 2265160.0, 2280000.0, 2300000.0, 2361000.0, 2400000.0, 2410000.0, 2479000.0, 2500000.0, 2515000.0, 2540800.0, 2570000.0, 2600000.0, 2627000.0, 2700000.0, 2723903.0, 2740700.0, 2800000.0, 2883848.0, 2900000.0, 2962051.0, 3000000.0, 3005000.0, 3180000.0, 3196621.0, 3200000.0, 3230939.0, 3250000.0, 3300000.0, 3400000.0, 3425875.0, 3500000.0, 3500159.0, 3598902.0, 3600000.0, 3700000.0, 3768785.0, 3800000.0, 3837625.0, 3950000.0, 4000000.0, 4015000.0, 4090000.0, 4100000.0, 4160000.0, 4180000.0, 4200000.0, 4250000.0, 4300000.0, 4302540.0, 4361898.0, 4400000.0, 4500000.0, 4600000.0, 4638783.0, 4667008.0, 4750000.0, 4798235.0, 4800000.0, 4900000.0, 5000000.0, 5019770.0, 5037000.0, 5100000.0, 5200000.0, 5210000.0, 5300000.0, 5350000.0, 5400000.0, 5444534.0, 5473145.0, 5500000.0, 5510000.0, 5579750.0, 5600000.0, 5641880.0, 5700000.0, 5741614.0, 5750000.0, 5773100.0, 5782853.0, 5800000.0, 5900000.0, 5904067.0, 5952000.0, 5990000.0, 6000000.0, 6100000.0, 6200000.0, 6244087.0, 6250000.0, 6300000.0, 6400000.0, 6411831.0, 6453637.0, 6500000.0, 6600000.0, 6700000.0, 6788000.0, 6800000.0, 6830000.0, 6843500.0, 6900000.0, 7000000.0, 7075038.0, 7080000.0, 7100000.0, 7154497.0, 7200000.0, 7230000.0, 7300000.0, 7400000.0, 7445000.0, 7500000.0, 7503564.0, 7528230.0, 7700000.0, 7800000.0, 7900000.0, 8000000.0, 8030000.0, 8045760.0, 8104734.0, 8120000.0, 8200000.0, 8250000.0, 8272296.0, 8391922.0, 8500000.0, 8520000.0, 8575000.0, 8616269.0, 8620000.0, 8700000.0, 8751000.0, 8900000.0, 8933400.0, 9000000.0, 9100000.0, 9272437.0, 9300000.0, 9400000.0, 9458736.0, 9500000.0, 9600000.0, 9800000.0, 9804690.0, 9900000.0, 10000000.0, 10300000.0, 10400000.0, 10500000.0, 10600000.0, 10706075.0, 10769016.0, 10800000.0, 10900000.0, 10920000.0, 10951000.0, 11000000.0, 11363000.0, 11500000.0, 11700000.0, 11795877.0, 11800000.0, 11930000.0, 11936735.0, 12000000.0, 12300000.0, 12308000.0, 12400000.0, 12468389.0, 12500000.0, 12560000.0, 12600000.0, 12700000.0, 12716953.0, 12806000.0, 12820000.0, 13000000.0, 13200000.0, 13300000.0, 13442285.0, 13500000.0, 13800000.0, 13938143.0, 14000000.0, 14200000.0, 14320000.0, 14350531.0, 14500000.0, 15000000.0, 15400000.0, 15500000.0, 15774948.0, 16000000.0, 16400000.0, 16500000.0, 17000000.0, 17080000.0, 17200000.0, 17289533.0, 17500000.0, 17759769.0, 17900000.0, 18000000.0, 18300000.0, 18339750.0, 18500000.0, 18700000.0, 19000000.0, 19032261.0, 19250000.0, 19400000.0, 19500000.0, 19800000.0, 20000000.0, 20500000.0, 21000000.0, 21150000.0, 21500000.0, 21918618.0, 22000000.0, 22500000.0, 22700000.0, 23000000.0, 23600000.0, 23934823.0, 24000000.0, 24500000.0, 25000000.0, 25130430.0, 25485000.0, 25496629.0, 26000000.0, 26350000.0, 26400000.0, 26500000.0, 27000000.0, 27220000.0, 27500000.0, 27563396.0, 27941858.0, 28000000.0, 29000000.0, 29500000.0, 29700000.0, 29900000.0, 30000000.0, 31000000.0, 31115000.0, 31500000.0, 32000000.0, 32350000.0, 32500000.0, 33000000.0, 34000000.0, 34200000.0, 35000000.0, 35866397.0, 36000000.0, 36500000.0, 37000000.0, 37500000.0, 38000000.0, 39000000.0, 39200000.0, 40000000.0, 41000000.0, 42000000.0, 43000000.0, 44000000.0, 45000000.0, 47000000.0, 48000000.0, 49000000.0, 49300000.0, 50000000.0, 50100000.0, 50200000.0, 51000000.0, 52000000.0, 53000000.0, 54000000.0, 55000000.0, 57000000.0, 58000000.0, 58500000.0, 58800000.0, 59000000.0, 60000000.0, 60720000.0, 60795000.0, 61000000.0, 62000000.0, 62770198.0, 63000000.0, 63300000.0, 63600000.0, 64000000.0, 65000000.0, 66000000.0, 67000000.0, 68000000.0, 68490000.0, 69000000.0, 70000000.0, 72000000.0, 73000000.0, 74000000.0, 74500000.0, 75000000.0, 75600000.0, 76000000.0, 78000000.0, 79000000.0, 80000000.0, 82000000.0, 82343495.0, 82500000.0, 84000000.0, 85000000.0, 86000000.0, 87000000.0, 88000000.0, 90000000.0, 92000000.0, 93000000.0, 94000000.0, 95000000.0, 97000000.0, 98000000.0, 99000000.0, 100000000.0, 102000000.0, 103000000.0, 104000000.0, 105000000.0, 108000000.0, 109000000.0, 110000000.0, 111000000.0, 115000000.0, 116000000.0, 120000000.0, 123000000.0, 125000000.0, 127000000.0, 129000000.0, 130000000.0, 132000000.0, 133000000.0, 135000000.0, 137000000.0, 138000000.0, 140000000.0, 144000000.0, 145000000.0, 149000000.0, 150000000.0, 155000000.0, 160000000.0, 163000000.0, 165000000.0, 170000000.0, 175000000.0, 176000000.0, 177200000.0, 178000000.0, 180000000.0, 185000000.0, 190000000.0, 195000000.0, 200000000.0, 210000000.0, 217000000.0, 220000000.0, 225000000.0, 230000000.0, 250000000.0, 255000000.0, 258000000.0, 260000000.0, 270000000.0, 280000000.0, 300000000.0, 380000000.0, nan]\n"
          ],
          "name": "stdout"
        }
      ]
    },
    {
      "cell_type": "code",
      "metadata": {
        "scrolled": true,
        "id": "CPFFlfwYkYhd",
        "colab": {
          "base_uri": "https://localhost:8080/"
        },
        "outputId": "e8fcc681-9c87-4a28-a677-a7340cdd4569"
      },
      "source": [
        "train.vote_average.value_counts().sort_index()"
      ],
      "execution_count": null,
      "outputs": [
        {
          "output_type": "execute_result",
          "data": {
            "text/plain": [
              "0.0     9\n",
              "1.5     1\n",
              "1.7     1\n",
              "1.8     1\n",
              "2.0     1\n",
              "       ..\n",
              "8.7     1\n",
              "8.8     1\n",
              "9.0     1\n",
              "9.1     1\n",
              "10.0    6\n",
              "Name: vote_average, Length: 71, dtype: int64"
            ]
          },
          "metadata": {
            "tags": []
          },
          "execution_count": 29
        }
      ]
    },
    {
      "cell_type": "code",
      "metadata": {
        "scrolled": true,
        "id": "HB4pOdqAkYhd",
        "colab": {
          "base_uri": "https://localhost:8080/",
          "height": 1000
        },
        "outputId": "3b8a28a5-7d32-440d-e6f8-f71e835750c0"
      },
      "source": [
        "train[train['vote_average']==0.0]"
      ],
      "execution_count": null,
      "outputs": [
        {
          "output_type": "execute_result",
          "data": {
            "text/html": [
              "<div>\n",
              "<style scoped>\n",
              "    .dataframe tbody tr th:only-of-type {\n",
              "        vertical-align: middle;\n",
              "    }\n",
              "\n",
              "    .dataframe tbody tr th {\n",
              "        vertical-align: top;\n",
              "    }\n",
              "\n",
              "    .dataframe thead th {\n",
              "        text-align: right;\n",
              "    }\n",
              "</style>\n",
              "<table border=\"1\" class=\"dataframe\">\n",
              "  <thead>\n",
              "    <tr style=\"text-align: right;\">\n",
              "      <th></th>\n",
              "      <th>revenue</th>\n",
              "      <th>budget</th>\n",
              "      <th>popularity</th>\n",
              "      <th>runtime</th>\n",
              "      <th>vote_average</th>\n",
              "      <th>vote_count</th>\n",
              "      <th>release_date</th>\n",
              "      <th>original_language</th>\n",
              "      <th>belongs_to_collection</th>\n",
              "      <th>genres</th>\n",
              "      <th>production_companies</th>\n",
              "      <th>cast</th>\n",
              "      <th>crew</th>\n",
              "      <th>belongs_to_collection_name</th>\n",
              "      <th>belongs_to_collection_id</th>\n",
              "      <th>genres_name</th>\n",
              "      <th>genres_id</th>\n",
              "      <th>production_companies_name</th>\n",
              "      <th>production_companies_id</th>\n",
              "      <th>cast_name</th>\n",
              "      <th>cast_id</th>\n",
              "      <th>crew_job</th>\n",
              "      <th>crew_name</th>\n",
              "      <th>crew_id</th>\n",
              "    </tr>\n",
              "    <tr>\n",
              "      <th>id</th>\n",
              "      <th></th>\n",
              "      <th></th>\n",
              "      <th></th>\n",
              "      <th></th>\n",
              "      <th></th>\n",
              "      <th></th>\n",
              "      <th></th>\n",
              "      <th></th>\n",
              "      <th></th>\n",
              "      <th></th>\n",
              "      <th></th>\n",
              "      <th></th>\n",
              "      <th></th>\n",
              "      <th></th>\n",
              "      <th></th>\n",
              "      <th></th>\n",
              "      <th></th>\n",
              "      <th></th>\n",
              "      <th></th>\n",
              "      <th></th>\n",
              "      <th></th>\n",
              "      <th></th>\n",
              "      <th></th>\n",
              "      <th></th>\n",
              "    </tr>\n",
              "  </thead>\n",
              "  <tbody>\n",
              "    <tr>\n",
              "      <th>628637</th>\n",
              "      <td>100000</td>\n",
              "      <td>10000</td>\n",
              "      <td>2.042</td>\n",
              "      <td>60</td>\n",
              "      <td>0</td>\n",
              "      <td>1</td>\n",
              "      <td>2019-09-23</td>\n",
              "      <td>en</td>\n",
              "      <td>None</td>\n",
              "      <td>[{'id': 27, 'name': 'Horror'}]</td>\n",
              "      <td>[{'id': 122388, 'logo_path': None, 'name': 'R....</td>\n",
              "      <td>[{'cast_id': 1, 'character': 'Demetrius', 'cre...</td>\n",
              "      <td>[{'credit_id': '5d7008bde2bca818a0ac6527', 'de...</td>\n",
              "      <td>None</td>\n",
              "      <td>NaN</td>\n",
              "      <td>[Horror]</td>\n",
              "      <td>[27]</td>\n",
              "      <td>[R.A. Productions]</td>\n",
              "      <td>[122388]</td>\n",
              "      <td>[Dakota Ray, Fred Epstein, Lilith Frost]</td>\n",
              "      <td>[1, 2, 3]</td>\n",
              "      <td>[Director]</td>\n",
              "      <td>[Dakota Ray]</td>\n",
              "      <td>[2400544]</td>\n",
              "    </tr>\n",
              "    <tr>\n",
              "      <th>654954</th>\n",
              "      <td>4000</td>\n",
              "      <td>3000</td>\n",
              "      <td>2.546</td>\n",
              "      <td>94</td>\n",
              "      <td>0</td>\n",
              "      <td>0</td>\n",
              "      <td>2019-09-03</td>\n",
              "      <td>en</td>\n",
              "      <td>None</td>\n",
              "      <td>[{'id': 53, 'name': 'Thriller'}, {'id': 27, 'n...</td>\n",
              "      <td>[{'id': 126351, 'logo_path': None, 'name': 'Be...</td>\n",
              "      <td>[{'cast_id': 1, 'character': 'The Man', 'credi...</td>\n",
              "      <td>[{'credit_id': '5df027c76a34480012c724ea', 'de...</td>\n",
              "      <td>None</td>\n",
              "      <td>NaN</td>\n",
              "      <td>[Thriller, Horror, Drama, Mystery]</td>\n",
              "      <td>[53, 27, 18, 9648]</td>\n",
              "      <td>[Berrow Bay Productions, 22six Productions, In...</td>\n",
              "      <td>[126351, 126352, 126353, 126354]</td>\n",
              "      <td>[Max Curtis, Daniella Faircloth, Marcus Starr,...</td>\n",
              "      <td>[1, 2, 3, 4, 5, 6, 7, 8, 9]</td>\n",
              "      <td>[Producer, Director, Producer]</td>\n",
              "      <td>[Marcus Starr, Alex Secker, Alex Secker]</td>\n",
              "      <td>[2479837, 2479844, 2479844]</td>\n",
              "    </tr>\n",
              "    <tr>\n",
              "      <th>410416</th>\n",
              "      <td>481</td>\n",
              "      <td>None</td>\n",
              "      <td>3.693</td>\n",
              "      <td>207</td>\n",
              "      <td>0</td>\n",
              "      <td>0</td>\n",
              "      <td>2016-08-07</td>\n",
              "      <td>en</td>\n",
              "      <td>None</td>\n",
              "      <td>[]</td>\n",
              "      <td>[{'id': 20529, 'logo_path': None, 'name': 'Zuf...</td>\n",
              "      <td>[{'cast_id': 0, 'character': 'Himself', 'credi...</td>\n",
              "      <td>[]</td>\n",
              "      <td>None</td>\n",
              "      <td>NaN</td>\n",
              "      <td>[]</td>\n",
              "      <td>[]</td>\n",
              "      <td>[Zuffa]</td>\n",
              "      <td>[20529]</td>\n",
              "      <td>[Alex Caceres, Yair Rodríguez, Cub Swanson, Th...</td>\n",
              "      <td>[0, 9, 2, 3, 4, 5, 6, 7, 8]</td>\n",
              "      <td>[]</td>\n",
              "      <td>[]</td>\n",
              "      <td>[]</td>\n",
              "    </tr>\n",
              "    <tr>\n",
              "      <th>329882</th>\n",
              "      <td>127761</td>\n",
              "      <td>None</td>\n",
              "      <td>4.02</td>\n",
              "      <td>81</td>\n",
              "      <td>0</td>\n",
              "      <td>0</td>\n",
              "      <td>1983-10-06</td>\n",
              "      <td>es</td>\n",
              "      <td>None</td>\n",
              "      <td>[{'id': 35, 'name': 'Comedy'}]</td>\n",
              "      <td>[{'id': 48279, 'logo_path': None, 'name': 'Gol...</td>\n",
              "      <td>[{'cast_id': 5, 'character': 'Eva Bombón', 'cr...</td>\n",
              "      <td>[{'credit_id': '54ff3d499251413d9600018f', 'de...</td>\n",
              "      <td>None</td>\n",
              "      <td>NaN</td>\n",
              "      <td>[Comedy]</td>\n",
              "      <td>[35]</td>\n",
              "      <td>[Golden Films Internacional S.A.]</td>\n",
              "      <td>[48279]</td>\n",
              "      <td>[Lina Romay, Asunción Calero, Juan Soler, Carm...</td>\n",
              "      <td>[5, 6, 7, 8, 9, 10, 11, 13]</td>\n",
              "      <td>[Screenplay, Director]</td>\n",
              "      <td>[Jesús Franco, Jesús Franco]</td>\n",
              "      <td>[30956, 30956]</td>\n",
              "    </tr>\n",
              "    <tr>\n",
              "      <th>498464</th>\n",
              "      <td>1000000</td>\n",
              "      <td>1e+06</td>\n",
              "      <td>2.177</td>\n",
              "      <td>92</td>\n",
              "      <td>0</td>\n",
              "      <td>0</td>\n",
              "      <td>2001-09-01</td>\n",
              "      <td>en</td>\n",
              "      <td>None</td>\n",
              "      <td>[{'id': 16, 'name': 'Animation'}]</td>\n",
              "      <td>[{'id': 174, 'logo_path': '/IuAlhI9eVC9Z8UQWOI...</td>\n",
              "      <td>[]</td>\n",
              "      <td>[]</td>\n",
              "      <td>None</td>\n",
              "      <td>NaN</td>\n",
              "      <td>[Animation]</td>\n",
              "      <td>[16]</td>\n",
              "      <td>[Warner Bros. Pictures]</td>\n",
              "      <td>[174]</td>\n",
              "      <td>[]</td>\n",
              "      <td>[]</td>\n",
              "      <td>[]</td>\n",
              "      <td>[]</td>\n",
              "      <td>[]</td>\n",
              "    </tr>\n",
              "    <tr>\n",
              "      <th>372115</th>\n",
              "      <td>234725</td>\n",
              "      <td>None</td>\n",
              "      <td>3.654</td>\n",
              "      <td>None</td>\n",
              "      <td>0</td>\n",
              "      <td>0</td>\n",
              "      <td>2015-12-10</td>\n",
              "      <td>en</td>\n",
              "      <td>None</td>\n",
              "      <td>[]</td>\n",
              "      <td>[{'id': 20529, 'logo_path': None, 'name': 'Zuf...</td>\n",
              "      <td>[{'cast_id': 0, 'character': '', 'credit_id': ...</td>\n",
              "      <td>[]</td>\n",
              "      <td>None</td>\n",
              "      <td>NaN</td>\n",
              "      <td>[]</td>\n",
              "      <td>[]</td>\n",
              "      <td>[Zuffa]</td>\n",
              "      <td>[20529]</td>\n",
              "      <td>[Paige VanZant, Rose Namajunas, Jim Miller, Mi...</td>\n",
              "      <td>[0, 1, 2, 3]</td>\n",
              "      <td>[]</td>\n",
              "      <td>[]</td>\n",
              "      <td>[]</td>\n",
              "    </tr>\n",
              "    <tr>\n",
              "      <th>219186</th>\n",
              "      <td>50</td>\n",
              "      <td>100</td>\n",
              "      <td>3.518</td>\n",
              "      <td>92</td>\n",
              "      <td>0</td>\n",
              "      <td>0</td>\n",
              "      <td>2012-08-19</td>\n",
              "      <td>en</td>\n",
              "      <td>None</td>\n",
              "      <td>[]</td>\n",
              "      <td>[]</td>\n",
              "      <td>[{'cast_id': 1, 'character': 'Stephen Millunzi...</td>\n",
              "      <td>[]</td>\n",
              "      <td>None</td>\n",
              "      <td>NaN</td>\n",
              "      <td>[]</td>\n",
              "      <td>[]</td>\n",
              "      <td>[]</td>\n",
              "      <td>[]</td>\n",
              "      <td>[Stephen Millunzi]</td>\n",
              "      <td>[1]</td>\n",
              "      <td>[]</td>\n",
              "      <td>[]</td>\n",
              "      <td>[]</td>\n",
              "    </tr>\n",
              "    <tr>\n",
              "      <th>679106</th>\n",
              "      <td>1407457</td>\n",
              "      <td>2.5e+06</td>\n",
              "      <td>1.718</td>\n",
              "      <td>208</td>\n",
              "      <td>0</td>\n",
              "      <td>0</td>\n",
              "      <td>2019-10-13</td>\n",
              "      <td>en</td>\n",
              "      <td>None</td>\n",
              "      <td>[{'id': 80, 'name': 'Crime'}, {'id': 18, 'name...</td>\n",
              "      <td>[{'id': 5573, 'logo_path': '/2rJ7YVYTI5Oif9ZMT...</td>\n",
              "      <td>[{'cast_id': 1, 'character': 'Stanley Hillis',...</td>\n",
              "      <td>[{'credit_id': '5e5ab84c357c000013276cce', 'de...</td>\n",
              "      <td>None</td>\n",
              "      <td>NaN</td>\n",
              "      <td>[Crime, Drama, History]</td>\n",
              "      <td>[80, 18, 36]</td>\n",
              "      <td>[NL Film en TV]</td>\n",
              "      <td>[5573]</td>\n",
              "      <td>[Jeroen Spitzenberger, Jochum ten Haaf, Sieger...</td>\n",
              "      <td>[1, 2, 3, 4, 5, 6, 7, 8, 9, 10, 11, 12, 13, 14...</td>\n",
              "      <td>[Director, Producer, Producer, Producer, Produ...</td>\n",
              "      <td>[Tim Oliehoek, Sabine Brian, Ronald Versteeg, ...</td>\n",
              "      <td>[105666, 229096, 1043686, 1486295, 1486305, 17...</td>\n",
              "    </tr>\n",
              "    <tr>\n",
              "      <th>636959</th>\n",
              "      <td>12000000</td>\n",
              "      <td>None</td>\n",
              "      <td>3.81</td>\n",
              "      <td>None</td>\n",
              "      <td>0</td>\n",
              "      <td>0</td>\n",
              "      <td>2019-11-08</td>\n",
              "      <td>ja</td>\n",
              "      <td>None</td>\n",
              "      <td>[{'id': 16, 'name': 'Animation'}]</td>\n",
              "      <td>[{'id': 103564, 'logo_path': '/t0dnUMFPjzPStIk...</td>\n",
              "      <td>[{'cast_id': 4, 'character': 'Narración (narra...</td>\n",
              "      <td>[{'credit_id': '5e137453fc5f06001991bb5a', 'de...</td>\n",
              "      <td>None</td>\n",
              "      <td>NaN</td>\n",
              "      <td>[Animation]</td>\n",
              "      <td>[16]</td>\n",
              "      <td>[Fanworks]</td>\n",
              "      <td>[103564]</td>\n",
              "      <td>[Yoshihiko Inohara, Manami Honjô]</td>\n",
              "      <td>[4, 7]</td>\n",
              "      <td>[Director]</td>\n",
              "      <td>[Mankyuu]</td>\n",
              "      <td>[2132649]</td>\n",
              "    </tr>\n",
              "  </tbody>\n",
              "</table>\n",
              "</div>"
            ],
            "text/plain": [
              "         revenue  ...                                            crew_id\n",
              "id                ...                                                   \n",
              "628637    100000  ...                                          [2400544]\n",
              "654954      4000  ...                        [2479837, 2479844, 2479844]\n",
              "410416       481  ...                                                 []\n",
              "329882    127761  ...                                     [30956, 30956]\n",
              "498464   1000000  ...                                                 []\n",
              "372115    234725  ...                                                 []\n",
              "219186        50  ...                                                 []\n",
              "679106   1407457  ...  [105666, 229096, 1043686, 1486295, 1486305, 17...\n",
              "636959  12000000  ...                                          [2132649]\n",
              "\n",
              "[9 rows x 24 columns]"
            ]
          },
          "metadata": {
            "tags": []
          },
          "execution_count": 30
        }
      ]
    },
    {
      "cell_type": "code",
      "metadata": {
        "scrolled": true,
        "id": "UYD0NFo4kYhd",
        "colab": {
          "base_uri": "https://localhost:8080/"
        },
        "outputId": "99f224c2-ac06-4c5f-a237-3f99a4d7cc27"
      },
      "source": [
        "train.vote_count.value_counts().sort_index()"
      ],
      "execution_count": null,
      "outputs": [
        {
          "output_type": "execute_result",
          "data": {
            "text/plain": [
              "0         8\n",
              "1        12\n",
              "2        14\n",
              "3        14\n",
              "4        25\n",
              "         ..\n",
              "19943     1\n",
              "21217     1\n",
              "21288     1\n",
              "21708     1\n",
              "24834     1\n",
              "Name: vote_count, Length: 1988, dtype: int64"
            ]
          },
          "metadata": {
            "tags": []
          },
          "execution_count": 31
        }
      ]
    },
    {
      "cell_type": "code",
      "metadata": {
        "scrolled": true,
        "id": "R39w9TYGkYhe",
        "colab": {
          "base_uri": "https://localhost:8080/"
        },
        "outputId": "e16c6b68-e90b-4d91-ec63-426614450ef1"
      },
      "source": [
        "train.belongs_to_collection_id.value_counts(dropna=False)"
      ],
      "execution_count": null,
      "outputs": [
        {
          "output_type": "execute_result",
          "data": {
            "text/plain": [
              "NaN         4150\n",
              "645.0         18\n",
              "528.0          6\n",
              "23456.0        5\n",
              "9735.0         5\n",
              "            ... \n",
              "553717.0       1\n",
              "91746.0        1\n",
              "110179.0       1\n",
              "100965.0       1\n",
              "325470.0       1\n",
              "Name: belongs_to_collection_id, Length: 712, dtype: int64"
            ]
          },
          "metadata": {
            "tags": []
          },
          "execution_count": 37
        }
      ]
    },
    {
      "cell_type": "code",
      "metadata": {
        "id": "pcUICE6pkYhf",
        "colab": {
          "base_uri": "https://localhost:8080/"
        },
        "outputId": "4b33e36b-cec8-4709-f005-949cc66f9349"
      },
      "source": [
        "flat_list = [item for sublist in train.genres_name.values for item in sublist]\n",
        "pd.Series(flat_list).value_counts(dropna=False)"
      ],
      "execution_count": null,
      "outputs": [
        {
          "output_type": "execute_result",
          "data": {
            "text/plain": [
              "Drama              2517\n",
              "Comedy             1882\n",
              "Thriller           1263\n",
              "Action             1207\n",
              "Romance            1008\n",
              "Adventure           752\n",
              "Crime               751\n",
              "Horror              551\n",
              "Science Fiction     515\n",
              "Family              479\n",
              "Fantasy             444\n",
              "Mystery             426\n",
              "Animation           286\n",
              "History             217\n",
              "Music               177\n",
              "War                 159\n",
              "Documentary         155\n",
              "Western              80\n",
              "TV Movie              5\n",
              "dtype: int64"
            ]
          },
          "metadata": {
            "tags": []
          },
          "execution_count": 38
        }
      ]
    },
    {
      "cell_type": "code",
      "metadata": {
        "scrolled": true,
        "id": "ha31Iuh0kYhf",
        "colab": {
          "base_uri": "https://localhost:8080/"
        },
        "outputId": "8b8bcb5a-63be-4660-a1a8-bed7b1ca7630"
      },
      "source": [
        "flat_list = [item for sublist in train.production_companies_name.values for item in sublist]\n",
        "pd.Series(flat_list).value_counts(dropna=False).head(1000)"
      ],
      "execution_count": null,
      "outputs": [
        {
          "output_type": "execute_result",
          "data": {
            "text/plain": [
              "Warner Bros. Pictures            344\n",
              "Universal Pictures               339\n",
              "Paramount                        263\n",
              "Columbia Pictures                256\n",
              "20th Century Fox                 255\n",
              "                                ... \n",
              "Black Bear Pictures                3\n",
              "Kadokawa Shoten Publishing         3\n",
              "Monarchy Enterprises S.a.r.l.      3\n",
              "Myriad Pictures                    3\n",
              "Inferno Distribution               3\n",
              "Length: 1000, dtype: int64"
            ]
          },
          "metadata": {
            "tags": []
          },
          "execution_count": 39
        }
      ]
    },
    {
      "cell_type": "code",
      "metadata": {
        "scrolled": true,
        "id": "aR8HH52fkYhf",
        "colab": {
          "base_uri": "https://localhost:8080/"
        },
        "outputId": "bb095ed9-8af9-4c50-8fe7-61da56175e02"
      },
      "source": [
        "flat_list = [item for sublist in train.cast_name.values for item in sublist]\n",
        "pd.Series(flat_list).value_counts(dropna=False).head(1000)"
      ],
      "execution_count": null,
      "outputs": [
        {
          "output_type": "execute_result",
          "data": {
            "text/plain": [
              "Samuel L. Jackson    57\n",
              "Frank Welker         52\n",
              "Morgan Freeman       50\n",
              "Bruce Willis         42\n",
              "Steve Buscemi        41\n",
              "                     ..\n",
              "Richard T. Jones     11\n",
              "Claire Danes         11\n",
              "Robert Forster       11\n",
              "Matthew Lillard      11\n",
              "Kenneth Mars         11\n",
              "Length: 1000, dtype: int64"
            ]
          },
          "metadata": {
            "tags": []
          },
          "execution_count": 40
        }
      ]
    },
    {
      "cell_type": "code",
      "metadata": {
        "id": "v09v5dfqUvD2"
      },
      "source": [
        "def extract_all_names(row):\n",
        "    names = list()\n",
        "    for x in row:\n",
        "        if type(x) == dict and len(x) >= 1 and '<' not in str(x['name']):\n",
        "            names.append(x.get('name', '<no cast>'))\n",
        "    return names[:20]\n",
        "\n",
        "def extract_all_names_for_crew(row):\n",
        "    names = list()\n",
        "    jobs = ['Executive Producer', 'Producer', 'Director']\n",
        "    for x in row:\n",
        "        if type(x) == dict and len(x) >= 1 and '<' not in str(x['name']) and x['job'] in jobs:\n",
        "            names.append(x.get('name', '<no crew>'))\n",
        "    return names[:20]\n",
        "\n",
        "\n",
        "def create_multi_hot(row ,mapping_dict):\n",
        "  multi_hot = [0] * len(mapping_dict)\n",
        "  for element in row:\n",
        "    multi_hot[mapping_dict[element]] = 1\n",
        "  return multi_hot\n",
        "\n",
        "train['production_companies'] = train['production_companies'].apply(lambda x: extract_all_names(x))\n",
        "all_companies = [item for sublist in train['production_companies'].values for item in sublist]\n",
        "all_companies = pd.Series(all_companies).value_counts()\n",
        "companies_to_erase = list(all_companies[all_companies <= 20].index)\n",
        "train['production_companies'] = train['production_companies'].apply(lambda row: [x for x in row if x not in companies_to_erase])\n",
        "\n",
        "train['crew'] = train['crew'].apply(lambda x: extract_all_names_for_crew(x))\n",
        "all_actors = [item for sublist in train['crew'].values for item in sublist]\n",
        "all_actors = pd.Series(all_actors).value_counts()\n",
        "actors_to_erase = list(all_actors[all_actors <= 10].index)\n",
        "all_actors = list(all_actors[all_actors > 10].index)\n",
        "all_actors = {actor: i for i, actor in enumerate(all_actors)}\n",
        "train['crew'] = train['crew'].apply(lambda row: [x for x in row if x not in actors_to_erase])\n",
        "train['crew'] = train['crew'].apply(lambda row: create_multi_hot(row, all_actors))"
      ],
      "execution_count": null,
      "outputs": []
    },
    {
      "cell_type": "code",
      "metadata": {
        "scrolled": true,
        "id": "ni8C6aA8kYhf",
        "colab": {
          "base_uri": "https://localhost:8080/"
        },
        "outputId": "cfda11d4-b9f9-4693-ce29-b16633ad6635"
      },
      "source": [
        "flat_list = [item for sublist in train.crew_name.values for item in sublist]\n",
        "pd.Series(flat_list).value_counts(dropna=False).head(1000)"
      ],
      "execution_count": null,
      "outputs": [
        {
          "output_type": "execute_result",
          "data": {
            "text/plain": [
              "Harvey Weinstein               96\n",
              "Bob Weinstein                  95\n",
              "Steven Spielberg               73\n",
              "Tim Bevan                      54\n",
              "Eric Fellner                   50\n",
              "Clint Eastwood                 48\n",
              "Scott Rudin                    48\n",
              "Ridley Scott                   45\n",
              "Arnon Milchan                  44\n",
              "Luc Besson                     43\n",
              "Joel Silver                    42\n",
              "Brian Grazer                   41\n",
              "Bruce Berman                   39\n",
              "Frank Marshall                 37\n",
              "Robert Rodriguez               36\n",
              "Kathleen Kennedy               34\n",
              "Ron Howard                     32\n",
              "Michael De Luca                32\n",
              "Thomas Tull                    31\n",
              "Jason Blum                     31\n",
              "Oliver Stone                   31\n",
              "Ivan Reitman                   30\n",
              "Stan Lee                       30\n",
              "Alfred Hitchcock               29\n",
              "Robert Zemeckis                29\n",
              "Walter F. Parkes               28\n",
              "Gary Lucchesi                  28\n",
              "John Davis                     27\n",
              "Francis Ford Coppola           27\n",
              "Tom Rosenberg                  27\n",
              "Michael Bay                    27\n",
              "Neal H. Moritz                 26\n",
              "Roger Birnbaum                 26\n",
              "Ted Field                      26\n",
              "Guillermo del Toro             26\n",
              "Akiva Goldsman                 26\n",
              "Ryan Kavanaugh                 25\n",
              "Richard Donner                 25\n",
              "Gary Barber                    25\n",
              "Toby Emmerich                  25\n",
              "Adam Sandler                   24\n",
              "Spike Lee                      24\n",
              "Peter Farrelly                 24\n",
              "Mark Gordon                    24\n",
              "Quentin Tarantino              24\n",
              "Sydney Pollack                 24\n",
              "Walter Hill                    24\n",
              "Blake Edwards                  24\n",
              "John Hughes                    23\n",
              "James Cameron                  22\n",
              "Steve Golin                    22\n",
              "Menahem Golan                  22\n",
              "Martin Scorsese                22\n",
              "Jerry Bruckheimer              22\n",
              "Richard Brener                 22\n",
              "Sam Raimi                      22\n",
              "Joel Coen                      21\n",
              "Lawrence Gordon                21\n",
              "Aditya Chopra                  21\n",
              "Bobby Farrelly                 21\n",
              "Ethan Coen                     21\n",
              "Rob Reiner                     21\n",
              "Robert Simonds                 21\n",
              "Gus Van Sant                   20\n",
              "Shawn Levy                     20\n",
              "Yoram Globus                   20\n",
              "Wyck Godfrey                   20\n",
              "Pedro Almodóvar                20\n",
              "Lorenzo Di Bonaventura         20\n",
              "Wes Craven                     20\n",
              "Christopher Nolan              19\n",
              "Avi Lerner                     19\n",
              "Richard D. Zanuck              19\n",
              "George Miller                  19\n",
              "Laurie MacDonald               19\n",
              "John Lasseter                  19\n",
              "Steven Soderbergh              19\n",
              "Woody Allen                    19\n",
              "Nathan Kahane                  19\n",
              "Dino De Laurentiis             18\n",
              "Kevin Feige                    18\n",
              "Barry Levinson                 18\n",
              "Jack Giarraputo                18\n",
              "George A. Romero               18\n",
              "Billy Wilder                   18\n",
              "Don Carmody                    18\n",
              "Michael Paseornek              18\n",
              "Todd Phillips                  18\n",
              "Tsui Hark                      18\n",
              "Evan Goldberg                  18\n",
              "John Carpenter                 17\n",
              "Liza Chasin                    17\n",
              "Mark Johnson                   17\n",
              "Roy Lee                        17\n",
              "Gale Anne Hurd                 17\n",
              "Peter Jackson                  17\n",
              "Edward Zwick                   17\n",
              "Avi Arad                       17\n",
              "Christine Vachon               16\n",
              "Mel Brooks                     16\n",
              "Chris Columbus                 16\n",
              "Todd Black                     16\n",
              "Danny Dimbort                  16\n",
              "Renny Harlin                   16\n",
              "Randall Emmett                 16\n",
              "Tessa Ross                     16\n",
              "Seth Rogen                     16\n",
              "George Clooney                 16\n",
              "Charles Roven                  16\n",
              "Tim Burton                     16\n",
              "Dana Goldberg                  16\n",
              "Richard Linklater              16\n",
              "Marc Platt                     16\n",
              "Robert W. Cort                 16\n",
              "Ronnie Screwvala               16\n",
              "Mario Kassar                   16\n",
              "Sylvester Stallone             16\n",
              "Lawrence Bender                16\n",
              "Michael Uslan                  16\n",
              "Brad Pitt                      15\n",
              "Gary Goldman                   15\n",
              "Erwin Stoff                    15\n",
              "Brett Ratner                   15\n",
              "James Schamus                  15\n",
              "Lauren Shuler Donner           15\n",
              "Guy Ritchie                    15\n",
              "David Brown                    15\n",
              "Adam McKay                     15\n",
              "Stanley Kubrick                15\n",
              "Joe Medjuck                    15\n",
              "Daniel Goldberg                15\n",
              "Joseph Drake                   15\n",
              "Roland Emmerich                15\n",
              "Marc Abraham                   15\n",
              "Alan J. Pakula                 15\n",
              "Tyler Perry                    15\n",
              "Charlie Chaplin                15\n",
              "Brian Kavanaugh-Jones          15\n",
              "Joe Roth                       15\n",
              "Eli Roth                       15\n",
              "Anthony Bregman                15\n",
              "John Huston                    15\n",
              "James G. Robinson              15\n",
              "Judd Apatow                    15\n",
              "John Thompson                  15\n",
              "Mark Damon                     15\n",
              "Brian Helgeland                15\n",
              "Boaz Davidson                  15\n",
              "David Twohy                    14\n",
              "Michael Shamberg               14\n",
              "Pat Proft                      14\n",
              "Jon Jashni                     14\n",
              "Ronald Bass                    14\n",
              "Roger Corman                   14\n",
              "Robert Redford                 14\n",
              "Paul Weitz                     14\n",
              "Sofia Coppola                  14\n",
              "Brian De Palma                 14\n",
              "Don Bluth                      14\n",
              "Edward R. Pressman             14\n",
              "Trevor Short                   14\n",
              "M. Night Shyamalan             14\n",
              "Chad Oman                      14\n",
              "Sidney Kimmel                  14\n",
              "Roman Polanski                 14\n",
              "Andrew Adamson                 14\n",
              "Ashok Amritraj                 14\n",
              "Clayton Townsend               14\n",
              "Barry Bernardi                 14\n",
              "Sidney Lumet                   14\n",
              "Stacey Sher                    14\n",
              "Joseph M. Caracciolo Jr.       14\n",
              "Tom Hanks                      14\n",
              "Phil Lord                      14\n",
              "Tony Scott                     14\n",
              "Christopher Miller             13\n",
              "Paul Feig                      13\n",
              "Aaron L. Gilbert               13\n",
              "Jake Kasdan                    13\n",
              "George Furla                   13\n",
              "Chris Bender                   13\n",
              "Steven Schneider               13\n",
              "Ezra Swerdlow                  13\n",
              "Norman Merry                   13\n",
              "David Lynch                    13\n",
              "Mani Ratnam                    13\n",
              "John Ford                      13\n",
              "Art Linson                     13\n",
              "Tucker Tooley                  13\n",
              "Bill Johnson                   13\n",
              "Danny Boyle                    13\n",
              "Peter Chernin                  13\n",
              "Sigurjón Sighvatsson           13\n",
              "Benjamin Melniker              13\n",
              "Robert Greenhut                13\n",
              "Chris Weitz                    13\n",
              "Vincent Maraval                13\n",
              "David Gordon Green             13\n",
              "Jon Avnet                      13\n",
              "Denise Di Novi                 13\n",
              "Todd Garner                    13\n",
              "Beau Flynn                     13\n",
              "Karan Johar                    13\n",
              "Basil Iwanyk                   13\n",
              "Richard S. Wright              12\n",
              "John Logan                     12\n",
              "Robert Jones                   12\n",
              "Will Ferrell                   12\n",
              "Dede Gardner                   12\n",
              "Elie Samaha                    12\n",
              "Peter Weir                     12\n",
              "Bob Yari                       12\n",
              "John Woo                       12\n",
              "J.J. Abrams                    12\n",
              "David Koepp                    12\n",
              "Rob Cohen                      12\n",
              "Mark Canton                    12\n",
              "Marty Bowen                    12\n",
              "Albert R. Broccoli             12\n",
              "David Giler                    12\n",
              "Danny DeVito                   12\n",
              "Eric McLeod                    12\n",
              "Simon Kinberg                  12\n",
              "Zack Snyder                    12\n",
              "Andrew Niccol                  12\n",
              "Mike Stenson                   12\n",
              "Peter Safran                   12\n",
              "Farhan Akhtar                  12\n",
              "Jim Sheridan                   12\n",
              "Michael G. Wilson              12\n",
              "Garry Marshall                 12\n",
              "John Daly                      12\n",
              "Steve Tisch                    12\n",
              "Steven Zaillian                12\n",
              "Christopher Meledandri         12\n",
              "Billy Ray                      12\n",
              "Jim Jarmusch                   12\n",
              "Peter Hyams                    12\n",
              "Paul W.S. Anderson             12\n",
              "Jenno Topping                  12\n",
              "Robert Mark Kamen              12\n",
              "Jay Roach                      12\n",
              "Mark Steven Johnson            12\n",
              "Alan Parker                    12\n",
              "William Horberg                12\n",
              "Ben Waisbren                   12\n",
              "Joel Schumacher                12\n",
              "Jon Favreau                    12\n",
              "Edgar Wright                   12\n",
              "Jason Reitman                  12\n",
              "Darren Aronofsky               12\n",
              "Ben Stiller                    12\n",
              "Scott Kroopf                   12\n",
              "Michael Mann                   12\n",
              "Terry Rossio                   11\n",
              "Megan Ellison                  11\n",
              "Debra Hayward                  11\n",
              "Brad Bird                      11\n",
              "Joe Carnahan                   11\n",
              "Andrew Stanton                 11\n",
              "Gary Goetzman                  11\n",
              "Tim Moore                      11\n",
              "Dan Lin                        11\n",
              "Jonathan Demme                 11\n",
              "John Sloss                     11\n",
              "Lawrence Kasdan                11\n",
              "Patrick McCormick              11\n",
              "Anthony Minghella              11\n",
              "Sean Daniel                    11\n",
              "Taylor Hackford                11\n",
              "Paul Haggis                    11\n",
              "Robert Tapert                  11\n",
              "Guy East                       11\n",
              "Billy Crystal                  11\n",
              "Andrew G. Vajna                11\n",
              "Colin Wilson                   11\n",
              "Kevin Smith                    11\n",
              "Ang Lee                        11\n",
              "Joss Whedon                    11\n",
              "Robert Shaye                   11\n",
              "Andrew Macdonald               11\n",
              "Jerry Weintraub                11\n",
              "Matthew Robbins                11\n",
              "John Singleton                 11\n",
              "Charles Gordon                 11\n",
              "Louis D'Esposito               11\n",
              "Aaron Ryder                    11\n",
              "Agustín Almodóvar              11\n",
              "Gary Foster                    11\n",
              "Bradley Fuller                 11\n",
              "John Ridley                    11\n",
              "Irwin Winkler                  11\n",
              "Neil Jordan                    11\n",
              "Christine Langan               11\n",
              "Vishal Bhardwaj                11\n",
              "Jon Kilik                      11\n",
              "Cameron Crowe                  11\n",
              "Anurag Kashyap                 11\n",
              "Laurence Mark                  11\n",
              "Stuart Ford                    11\n",
              "Robert Lorenz                  11\n",
              "Mace Neufeld                   11\n",
              "Gerald R. Molen                11\n",
              "Andrew Form                    11\n",
              "Nancy Meyers                   11\n",
              "William Friedkin               11\n",
              "David Heyman                   11\n",
              "Bruce Davey                    11\n",
              "Susan Downey                   11\n",
              "Wolfgang Petersen              11\n",
              "Wes Anderson                   11\n",
              "Nick Wechsler                  11\n",
              "Adam Shankman                  11\n",
              "Harold Ramis                   11\n",
              "Cassian Elwes                  10\n",
              "Oren Peli                      10\n",
              "Bradley Thomas                 10\n",
              "Michael Moore                  10\n",
              "Fran Walsh                     10\n",
              "Moshe Diamant                  10\n",
              "J.C. Spink                     10\n",
              "Debra Hill                     10\n",
              "Michael Tadross                10\n",
              "Sam Peckinpah                  10\n",
              "Armyan Bernstein               10\n",
              "Ron Shelton                    10\n",
              "Richard Maibaum                10\n",
              "Arnold Kopelson                10\n",
              "Scott Frank                    10\n",
              "Mark Huffam                    10\n",
              "Gary Levinsohn                 10\n",
              "Matthew Vaughn                 10\n",
              "Dave Neustadter                10\n",
              "Robert Wise                    10\n",
              "William Packer                 10\n",
              "Terry Gilliam                  10\n",
              "David Hoberman                 10\n",
              "John Musker                    10\n",
              "James Vanderbilt               10\n",
              "Jason Blumenthal               10\n",
              "Jessie Nelson                  10\n",
              "Suzanne Todd                   10\n",
              "Gigi Pritzker                  10\n",
              "Anthony Katagas                10\n",
              "Fred Roos                      10\n",
              "Paul Thomas Anderson           10\n",
              "Scott Stuber                   10\n",
              "Douglas Wick                   10\n",
              "Curtis Hanson                  10\n",
              "Keenen Ivory Wayans            10\n",
              "Frank Mancuso Jr.              10\n",
              "Richard LaGravenese            10\n",
              "David Ellison                  10\n",
              "James L. Brooks                10\n",
              "Elizabeth Avellan              10\n",
              "Tom Pollock                    10\n",
              "Paul Schrader                  10\n",
              "Alexandre Aja                  10\n",
              "Spike Jonze                    10\n",
              "Larry J. Franco                10\n",
              "E. Bennett Walsh               10\n",
              "Robert De Niro                 10\n",
              "Robert Chartoff                10\n",
              "Yash Chopra                    10\n",
              "Grant Heslov                   10\n",
              "David Dobkin                   10\n",
              "Michael London                 10\n",
              "John Badham                    10\n",
              "Jeff Skoll                     10\n",
              "David Foster                   10\n",
              "Jon Turteltaub                 10\n",
              "Stephen Woolley                10\n",
              "Lawrence Kasanoff              10\n",
              "Steve Richards                 10\n",
              "Peter Guber                    10\n",
              "Rob Zombie                     10\n",
              "Don Murphy                     10\n",
              "Christopher Woodrow            10\n",
              "Zygi Kamasa                    10\n",
              "Timur Bekmambetov              10\n",
              "Mike Karz                      10\n",
              "Alex Kurtzman                  10\n",
              "Bobby Cohen                    10\n",
              "James Wan                      10\n",
              "Sam Mendes                     10\n",
              "Steve Starkey                  10\n",
              "Ian Bryce                      10\n",
              "David Zucker                   10\n",
              "James Jacks                    10\n",
              "Graham King                    10\n",
              "Brian Robbins                  10\n",
              "Walt Disney                     9\n",
              "Tom Cruise                      9\n",
              "Barry Sonnenfeld                9\n",
              "Kevin Scott Frakes              9\n",
              "Alex Garland                    9\n",
              "John Wells                      9\n",
              "Andrew Stevens                  9\n",
              "Hawk Koch                       9\n",
              "Richard Kelly                   9\n",
              "Walter Hamada                   9\n",
              "Babaloo Mandel                  9\n",
              "Alejandro Amenábar              9\n",
              "David Mamet                     9\n",
              "Angelina Jolie                  9\n",
              "Jeffrey Stott                   9\n",
              "William Goldman                 9\n",
              "George Lucas                    9\n",
              "Mike Nichols                    9\n",
              "Jennifer Todd                   9\n",
              "Kenneth Branagh                 9\n",
              "Moritz Borman                   9\n",
              "David Gale                      9\n",
              "Deepak Nayar                    9\n",
              "Jordan Kerner                   9\n",
              "Noah Baumbach                   9\n",
              "Kevin Costner                   9\n",
              "Peter Saraf                     9\n",
              "Gregg Araki                     9\n",
              "David Valdes                    9\n",
              "Phillip Noyce                   9\n",
              "Warren Beatty                   9\n",
              "Andreas Schmid                  9\n",
              "Peter Block                     9\n",
              "Charles Brackett                9\n",
              "Lasse Hallström                 9\n",
              "David M. Thompson               9\n",
              "Andrew Davis                    9\n",
              "Roberto Orci                    9\n",
              "Kathryn Bigelow                 9\n",
              "Jean-Jacques Annaud             9\n",
              "Jack Rapke                      9\n",
              "J. Miles Dale                   9\n",
              "Bill Condon                     9\n",
              "Jeffrey Silver                  9\n",
              "Emma Thomas                     9\n",
              "Robert Altman                   9\n",
              "Gavin Polone                    9\n",
              "Kris Thykier                    9\n",
              "Michel Gondry                   9\n",
              "Antoine Fuqua                   9\n",
              "Paula Wagner                    9\n",
              "Lionel Wigram                   9\n",
              "Mark Burg                       9\n",
              "Ted Hope                        9\n",
              "Tim Herlihy                     9\n",
              "Michael I. Rachmil              9\n",
              "Ron Clements                    9\n",
              "Jon Peters                      9\n",
              "Bill Gerber                     9\n",
              "Broderick Johnson               9\n",
              "Marcus Viscidi                  9\n",
              "Charlie Kaufman                 9\n",
              "Hayao Miyazaki                  9\n",
              "Nicholas Stoller                9\n",
              "Jim Abrahams                    9\n",
              "Robert Daley                    9\n",
              "Park Chan-wook                  9\n",
              "Ben Affleck                     9\n",
              "Steve Oedekerk                  9\n",
              "Jim Seibel                      9\n",
              "Barbara A. Hall                 9\n",
              "Lowell Ganz                     9\n",
              "John Landis                     9\n",
              "Chris Wedge                     9\n",
              "Mary Parent                     9\n",
              "Guy Riedel                      9\n",
              "Karen Kehela Sherwood           9\n",
              "David Permut                    9\n",
              "Will Smith                      9\n",
              "Kunihiko Yuyama                 9\n",
              "Olivier Delbosc                 9\n",
              "Peter Berg                      9\n",
              "Jonathan Levine                 9\n",
              "Baz Luhrmann                    9\n",
              "Victoria Alonso                 8\n",
              "Robert Graf                     8\n",
              "Sean Anders                     8\n",
              "Ronald Shusett                  8\n",
              "Joseph Ruben                    8\n",
              "Andreas Grosch                  8\n",
              "Zoya Akhtar                     8\n",
              "Tate Taylor                     8\n",
              "Tom Shadyac                     8\n",
              "William Nicholson               8\n",
              "Cary Woods                      8\n",
              "Joe Eszterhas                   8\n",
              "Marc Missonnier                 8\n",
              "Etan Cohen                      8\n",
              "Roger Spottiswoode              8\n",
              "Jeb Stuart                      8\n",
              "Brian Oliver                    8\n",
              "Michael Peyser                  8\n",
              "John Hamburg                    8\n",
              "Julio Fernández                 8\n",
              "Steven Reuther                  8\n",
              "Gregory Jacobs                  8\n",
              "Stan Wertlieb                   8\n",
              "Andy Fickman                    8\n",
              "Michael Crichton                8\n",
              "Don Hahn                        8\n",
              "Bryan Singer                    8\n",
              "Tim Smith                       8\n",
              "Edward S. Feldman               8\n",
              "Alan Marshall                   8\n",
              "Adam Schroeder                  8\n",
              "Courtney Solomon                8\n",
              "Deborah Snyder                  8\n",
              "Ted Elliott                     8\n",
              "Hunt Lowry                      8\n",
              "James Foley                     8\n",
              "Doug Davison                    8\n",
              "Jan de Bont                     8\n",
              "Toshio Suzuki                   8\n",
              "Marc Forster                    8\n",
              "Norman Jewison                  8\n",
              "Scott Mosier                    8\n",
              "William Fay                     8\n",
              "Gilbert Adler                   8\n",
              "Martin Moszkowicz               8\n",
              "Tony Gilroy                     8\n",
              "Joel B. Michaels                8\n",
              "Brahim Chioua                   8\n",
              "George Nolfi                    8\n",
              "Xavier Marchand                 8\n",
              "James D. Stern                  8\n",
              "James Whitaker                  8\n",
              "Xavier Dolan                    8\n",
              "Jonathan King                   8\n",
              "Eric Roth                       8\n",
              "Julie Taymor                    8\n",
              "Jeff Tremaine                   8\n",
              "Ram Gopal Varma                 8\n",
              "Alex Proyas                     8\n",
              "G. Mac Brown                    8\n",
              "Paul Maslansky                  8\n",
              "David B. Householter            8\n",
              "Amy Pascal                      8\n",
              "François Ozon                   8\n",
              "Peter Segal                     8\n",
              "Peter Bogdanovich               8\n",
              "Trevor Macy                     8\n",
              "Barry Brooker                   8\n",
              "Lloyd Levin                     8\n",
              "John Boorman                    8\n",
              "Paul Webster                    8\n",
              "Thomas A. Bliss                 8\n",
              "Steven E. de Souza              8\n",
              "Couper Samuelson                8\n",
              "Eli Bush                        8\n",
              "Gore Verbinski                  8\n",
              "Stuart Beattie                  8\n",
              "Lars von Trier                  8\n",
              "Peter Schlessel                 8\n",
              "Todd Hallowell                  8\n",
              "Barrie M. Osborne               8\n",
              "Mike Judge                      8\n",
              "Stephen Hopkins                 8\n",
              "Nicolas Winding Refn            8\n",
              "David Fincher                   8\n",
              "Elizabeth Banks                 8\n",
              "Gil Netter                      8\n",
              "Jane Rosenthal                  8\n",
              "Jake Eberts                     8\n",
              "John Penotti                    8\n",
              "Derek Gibson                    8\n",
              "Barry Mendel                    8\n",
              "Chris Brigham                   8\n",
              "Jeanette Volturno               8\n",
              "Michael Winterbottom            8\n",
              "Marianne Maddalena              8\n",
              "Howard Deutch                   8\n",
              "Jonathan Lynn                   8\n",
              "Richard Curtis                  8\n",
              "Steven Mnuchin                  8\n",
              "Daniel Lupi                     8\n",
              "Erik Feig                       8\n",
              "Donald De Line                  8\n",
              "Stanley Donen                   8\n",
              "Ulrich Seidl                    8\n",
              "Jackie Chan                     8\n",
              "Dean Devlin                     8\n",
              "Andrew A. Kosove                8\n",
              "Marty P. Ewing                  8\n",
              "Anthony \"Pasquale\" Giordano     8\n",
              "Todd Wagner                     8\n",
              "Jason Constantine               8\n",
              "Ed Cathell III                  8\n",
              "Kevin Misher                    8\n",
              "Paul Greengrass                 8\n",
              "Peter Hampden                   8\n",
              "Pieter Jan Brugge               8\n",
              "Wayne Marc Godfrey              8\n",
              "David Nicksay                   8\n",
              "Marc Turtletaub                 8\n",
              "Don Granger                     8\n",
              "Karen Rosenfelt                 8\n",
              "Hal B. Wallis                   8\n",
              "Bill Carraro                    8\n",
              "Keith Barish                    8\n",
              "Jonathan Glickman               7\n",
              "Andrew Lau                      7\n",
              "Andrew Panay                    7\n",
              "Craig Perry                     7\n",
              "Bob Rafelson                    7\n",
              "Brent O'Connor                  7\n",
              "Adam Siegel                     7\n",
              "Mike Figgis                     7\n",
              "Ric Kidney                      7\n",
              "Scott Aversano                  7\n",
              "Glen Basner                     7\n",
              "Adam Merims                     7\n",
              "Gordon Carroll                  7\n",
              "Andrew Scheinman                7\n",
              "Michael Finnell                 7\n",
              "Andrew Rona                     7\n",
              "Darryl F. Zanuck                7\n",
              "David Mackenzie                 7\n",
              "Jeremy Thomas                   7\n",
              "James Lassiter                  7\n",
              "Georgia Kacandes                7\n",
              "Neil LaBute                     7\n",
              "Vladimir Polyakov               7\n",
              "Marshall Herskovitz             7\n",
              "Michael Schaefer                7\n",
              "Philip Steuer                   7\n",
              "Charles B. Wessler              7\n",
              "Marc D. Evans                   7\n",
              "Bharat Shah                     7\n",
              "José Padilha                    7\n",
              "Ruben Fleischer                 7\n",
              "Steve Martin                    7\n",
              "Pascal Caucheteux               7\n",
              "Arthur Freed                    7\n",
              "Doug Mitchell                   7\n",
              "Ron Halpern                     7\n",
              "Mark Vahradian                  7\n",
              "Simon Curtis                    7\n",
              "Ronald L. Schwary               7\n",
              "Ben Wheatley                    7\n",
              "Sam Mercer                      7\n",
              "Andrew Mason                    7\n",
              "Esther García                   7\n",
              "Todd Lieberman                  7\n",
              "Boaz Yakin                      7\n",
              "John W. Hyde                    7\n",
              "David Cronenberg                7\n",
              "Leigh Whannell                  7\n",
              "Justin Haythe                   7\n",
              "Gary Michael Walters            7\n",
              "Jonathan D. Krane               7\n",
              "Michael Costigan                7\n",
              "Miranda Bailey                  7\n",
              "Bong Joon-ho                    7\n",
              "John Powers Middleton           7\n",
              "Todd Haynes                     7\n",
              "Philip Kaufman                  7\n",
              "Brad Krevoy                     7\n",
              "Rodrigo Teixeira                7\n",
              "Lisa Wilson                     7\n",
              "Tim Story                       7\n",
              "Michael Green                   7\n",
              "Jennings Lang                   7\n",
              "Lynda Obst                      7\n",
              "Bernd Eichinger                 7\n",
              "Anne Kopelson                   7\n",
              "John Madden                     7\n",
              "Laura Ziskin                    7\n",
              "Steve James                     7\n",
              "Jonathan Hensleigh              7\n",
              "Ritesh Sidhwani                 7\n",
              "Bob Clark                       7\n",
              "Hideaki Anno                    7\n",
              "Wesley Strick                   7\n",
              "Guymon Casady                   7\n",
              "Tobin Armbrust                  7\n",
              "Todd Solondz                    7\n",
              "Paul Schiff                     7\n",
              "Liz Glotzer                     7\n",
              "Randall Wallace                 7\n",
              "Álvaro Augustín                 7\n",
              "Paco Plaza                      7\n",
              "Hiroo Johar                     7\n",
              "Russell Mulcahy                 7\n",
              "Michel Litvak                   7\n",
              "John McTiernan                  7\n",
              "Harry Saltzman                  7\n",
              "F. Gary Gray                    7\n",
              "Robert L. Levy                  7\n",
              "Claudia Bluemhuber              7\n",
              "Lana Wachowski                  7\n",
              "Thorsten Schumacher             7\n",
              "Neil Canton                     7\n",
              "Dan Halsted                     7\n",
              "Marc S. Fischer                 7\n",
              "Rajkumar Hirani                 7\n",
              "John Sayles                     7\n",
              "Martin Brest                    7\n",
              "Herb Gains                      7\n",
              "John G. Avildsen                7\n",
              "Christopher McQuarrie           7\n",
              "James McQuaide                  7\n",
              "John Schlesinger                7\n",
              "Jason Cloth                     7\n",
              "Alan Fine                       7\n",
              "Lee Daniels                     7\n",
              "Frank Miller                    7\n",
              "Bernardo Bertolucci             7\n",
              "Lilly Wachowski                 7\n",
              "John Lee Hancock                7\n",
              "Zhang Yimou                     7\n",
              "David T. Friendly               7\n",
              "James Mangold                   7\n",
              "Sarah Green                     7\n",
              "Matt Jackson                    7\n",
              "Jimmy Miller                    7\n",
              "David Loughery                  7\n",
              "Bernard Williams                7\n",
              "Nigel Sinclair                  7\n",
              "Michael Apted                   7\n",
              "Lloyd Phillips                  7\n",
              "Mike Medavoy                    7\n",
              "Mel Gibson                      7\n",
              "Richard N. Gladstein            7\n",
              "Mary McLaglen                   7\n",
              "Tripp Vinson                    7\n",
              "Joe Wright                      7\n",
              "Frank Capra                     7\n",
              "Joel Soisson                    7\n",
              "Ernest Lehman                   7\n",
              "Dario Argento                   7\n",
              "Michael Barnathan               7\n",
              "Tom Hooper                      7\n",
              "Olivier Courson                 7\n",
              "Michael Cimino                  7\n",
              "Bob Gale                        7\n",
              "Barbara Broccoli                7\n",
              "James Gunn                      7\n",
              "Damian Jones                    7\n",
              "David S. Goyer                  7\n",
              "Andrew Lazar                    7\n",
              "Ray Stark                       7\n",
              "Nira Park                       7\n",
              "Robert Evans                    7\n",
              "Ilona Herzberg                  7\n",
              "Martin Campbell                 7\n",
              "Molly Conners                   7\n",
              "Dylan Sellers                   7\n",
              "Ashutosh Gowariker              7\n",
              "A.J. Dix                        7\n",
              "Moustapha Akkad                 7\n",
              "Peter Yates                     7\n",
              "Joe Dante                       7\n",
              "Edward Norton                   7\n",
              "Chuck Russell                   7\n",
              "Scott Derrickson                7\n",
              "Roland Joffé                    7\n",
              "Bernard Rose                    7\n",
              "Roger Michell                   7\n",
              "Martin Shafer                   7\n",
              "Marlon Wayans                   7\n",
              "James Weaver                    7\n",
              "Daniel Petrie Jr.               7\n",
              "Michael Kuhn                    7\n",
              "Howard Hawks                    7\n",
              "Steve Carr                      7\n",
              "Allan Loeb                      7\n",
              "Patrick Crowley                 7\n",
              "Mike Cahill                     7\n",
              "Beth Kono                       7\n",
              "Michael Tolkin                  7\n",
              "Wong Kar-wai                    7\n",
              "Kevin J. Messick                7\n",
              "Michael Winner                  7\n",
              "Jeremy Kleiner                  7\n",
              "Eric Newman                     6\n",
              "Stephen Sommers                 6\n",
              "Celia D. Costas                 6\n",
              "Eric Reid                       6\n",
              "Matt Tolmach                    6\n",
              "Chris Henchy                    6\n",
              "Robert K. Weiss                 6\n",
              "David Kirschner                 6\n",
              "Jon Davison                     6\n",
              "Lawrence Turman                 6\n",
              "Iain Smith                      6\n",
              "Alejandro González Iñárritu     6\n",
              "Charles H. Joffe                6\n",
              "Adam Wingard                    6\n",
              "Compton Ross                    6\n",
              "Dany Garcia                     6\n",
              "Stan Wlodkowski                 6\n",
              "Mark L. Lester                  6\n",
              "Arnold Rifkin                   6\n",
              "Oliver Hengst                   6\n",
              "James D. Brubaker               6\n",
              "Dan Kolsrud                     6\n",
              "Alex Garcia                     6\n",
              "Sara Risher                     6\n",
              "Allon Reich                     6\n",
              "Sean Ellis                      6\n",
              "Stirling Silliphant             6\n",
              "William Monahan                 6\n",
              "Robert Engelman                 6\n",
              "Denzel Washington               6\n",
              "Bruce Beresford                 6\n",
              "Nora Ephron                     6\n",
              "Lem Dobbs                       6\n",
              "John H. Williams                6\n",
              "Jason Friedberg                 6\n",
              "Christopher Markus              6\n",
              "Charles Band                    6\n",
              "Barbet Schroeder                6\n",
              "Ronald M. Bozman                6\n",
              "Thomas M. Hammel                6\n",
              "Bob Dolman                      6\n",
              "Tom Schulman                    6\n",
              "Fernando Meirelles              6\n",
              "Luke Greenfield                 6\n",
              "Damon Lindelof                  6\n",
              "Herbert Ross                    6\n",
              "David Crockett                  6\n",
              "Gary Winick                     6\n",
              "Shawn Wayans                    6\n",
              "Joel Edgerton                   6\n",
              "Steven M. Rales                 6\n",
              "Irwin Allen                     6\n",
              "Robert Salerno                  6\n",
              "Willard Huyck                   6\n",
              "Peter Morgan                    6\n",
              "Bernie Brillstein               6\n",
              "Leslie Holleran                 6\n",
              "Kirk D'Amico                    6\n",
              "Iain Softley                    6\n",
              "Matt Manfredi                   6\n",
              "Taika Waititi                   6\n",
              "Julie Delpy                     6\n",
              "Ted Kotcheff                    6\n",
              "Oren Moverman                   6\n",
              "Stephen Herek                   6\n",
              "Lynn Harris                     6\n",
              "Cecil B. DeMille                6\n",
              "Ol Parker                       6\n",
              "Mickey Liddell                  6\n",
              "John Whitesell                  6\n",
              "David Lancaster                 6\n",
              "Tobe Hooper                     6\n",
              "Albert Berger                   6\n",
              "Simon Channing Williams         6\n",
              "Julie Yorn                      6\n",
              "Leonard Goldberg                6\n",
              "Bill Todman Jr.                 6\n",
              "Brad Fischer                    6\n",
              "Ron Yerxa                       6\n",
              "Martin Bregman                  6\n",
              "Steve Koren                     6\n",
              "William S. Gilmore              6\n",
              "Nick Spicer                     6\n",
              "Rob Cowan                       6\n",
              "Hossein Amini                   6\n",
              "Cinco Paul                      6\n",
              "Sarah E. Johnson                6\n",
              "Dan Gordon                      6\n",
              "Larry Ferguson                  6\n",
              "Pen Densham                     6\n",
              "John Krasinski                  6\n",
              "Glenn Ficarra                   6\n",
              "Adam Fogelson                   6\n",
              "Paula Weinstein                 6\n",
              "Adam Herz                       6\n",
              "Mary Jane Skalski               6\n",
              "Akira Kurosawa                  6\n",
              "Rodney Rothman                  6\n",
              "Claire Rudnick Polstein         6\n",
              "Ralph Bakshi                    6\n",
              "Stuart M. Besser                6\n",
              "Rakeysh Omprakash Mehra         6\n",
              "Mark Roybal                     6\n",
              "Aaron Seltzer                   6\n",
              "Jeff Pinkner                    6\n",
              "Jonathan Gordon                 6\n",
              "Mike White                      6\n",
              "Charles Layton                  6\n",
              "S.S. Rajamouli                  6\n",
              "Phil Hay                        6\n",
              "Rick Schwartz                   6\n",
              "Lila Yacoub                     6\n",
              "Vincent Gallo                   6\n",
              "Barry H. Waldman                6\n",
              "Anne Carey                      6\n",
              "David Seltzer                   6\n",
              "Jacques Perrin                  6\n",
              "Leslie Dixon                    6\n",
              "Wolfgang Reitherman             6\n",
              "Satyajit Ray                    6\n",
              "Fede Alvarez                    6\n",
              "Steve McQueen                   6\n",
              "Wim Wenders                     6\n",
              "Nicholas Hytner                 6\n",
              "Jens Meurer                     6\n",
              "John Morris                     6\n",
              "John Watson                     6\n",
              "Mark Pellington                 6\n",
              "Eddie Murphy                    6\n",
              "Jeremiah Samuels                6\n",
              "Robert Kulzer                   6\n",
              "Ernest Tidyman                  6\n",
              "Atom Egoyan                     6\n",
              "Don Roos                        6\n",
              "Jon Lucas                       6\n",
              "Holly Wiersma                   6\n",
              "Kevin Williamson                6\n",
              "Michael Beugg                   6\n",
              "Glenn S. Gainor                 6\n",
              "Nicholas Meyer                  6\n",
              "Steve Perry                     6\n",
              "Michael Hausman                 6\n",
              "Jeffrey Chernov                 6\n",
              "Neal Israel                     6\n",
              "Len Blavatnik                   6\n",
              "John Cameron                    6\n",
              "Brian Witten                    6\n",
              "Myles Nestel                    6\n",
              "Charlize Theron                 6\n",
              "Cathy Konrad                    6\n",
              "Stuart Cornfeld                 6\n",
              "Gail Egan                       6\n",
              "Dan Fogelman                    6\n",
              "Bryan Burk                      6\n",
              "Julian Fellowes                 6\n",
              "Albert Pyun                     6\n",
              "Jaume Balagueró                 6\n",
              "Ben Browning                    6\n",
              "Mark Radcliffe                  6\n",
              "Phil Hunt                       6\n",
              "Rawson Marshall Thurber         6\n",
              "Terry Hayes                     6\n",
              "Sarah Aubrey                    6\n",
              "Mike Mills                      6\n",
              "Charles Newirth                 6\n",
              "Amy Heckerling                  6\n",
              "Dennis Dugan                    6\n",
              "Nancy Juvonen                   6\n",
              "Lourenço Sant'Anna              6\n",
              "Adam Rifkin                     6\n",
              "Sean McKittrick                 6\n",
              "Raja Gosnell                    6\n",
              "José Luis Cuerda                6\n",
              "Dylan Clark                     6\n",
              "Doug Claybourne                 6\n",
              "Duncan Henderson                6\n",
              "Roger Donaldson                 6\n",
              "Joseph L. Mankiewicz            6\n",
              "Michele Imperato                6\n",
              "Sergio Leone                    6\n",
              "Michael Ohoven                  6\n",
              "Kim Roth                        6\n",
              "Callum Greene                   6\n",
              "Saïd Ben Saïd                   6\n",
              "Paul Dehn                       6\n",
              "Tobey Maguire                   6\n",
              "Marius Balchunas                6\n",
              "David Yates                     6\n",
              "Warren Zide                     6\n",
              "John Lesher                     6\n",
              "Fatih Akin                      6\n",
              "Rob Hardy                       6\n",
              "Ben Falcone                     6\n",
              "Phil Alden Robinson             6\n",
              "George Tillman, Jr.             6\n",
              "Patricia Whitcher               6\n",
              "Bill Holderman                  6\n",
              "A. Kitman Ho                    6\n",
              "Terence Chang                   6\n",
              "Cathy Schulman                  6\n",
              "Vidhu Vinod Chopra              6\n",
              "Robert Benton                   6\n",
              "Jay Stern                       6\n",
              "John Requa                      6\n",
              "David Barron                    6\n",
              "Dan Mazer                       6\n",
              "Peter Aalbæk Jensen             6\n",
              "Geoff Johns                     6\n",
              "Gloria Katz                     6\n",
              "Eric Red                        6\n",
              "John Sturges                    6\n",
              "John Patrick Shanley            6\n",
              "Mark Cuban                      6\n",
              "Brad Grey                       6\n",
              "Simon Wells                     6\n",
              "David O. Russell                6\n",
              "Marc Butan                      6\n",
              "Thom Mount                      6\n",
              "Vincente Minnelli               6\n",
              "Paul Brett                      6\n",
              "John Turturro                   6\n",
              "Marc Lawrence                   6\n",
              "Andrew Bergman                  6\n",
              "Wayne Wang                      6\n",
              "Richard Vane                    6\n",
              "dtype: int64"
            ]
          },
          "metadata": {
            "tags": []
          },
          "execution_count": 65
        }
      ]
    },
    {
      "cell_type": "code",
      "metadata": {
        "colab": {
          "base_uri": "https://localhost:8080/"
        },
        "id": "5Zb0oWd9XSLw",
        "outputId": "d8eadefb-29eb-4b9a-a15b-e22152aa18ca"
      },
      "source": [
        "def _get_first_crew_member_per_job(crew_list: list, jobs: list):\n",
        "    \"\"\"\n",
        "    return a dict with crew members names (that appear first) for every job in `jobs`\n",
        "    :param crew_list: (list) a list of crew members data\n",
        "    :param jobs: (list) a list of wanted jobs\n",
        "    :return: dict with crew members names for every job in `jobs`\n",
        "    \"\"\"\n",
        "    result = dict.fromkeys(jobs, '<no crew>')\n",
        "    for job in jobs:\n",
        "        for member_dict in crew_list:\n",
        "            if member_dict.get('job') == job:\n",
        "                result[job] = member_dict.get('name', '<no crew>')\n",
        "                break  # to get the first only\n",
        "    return result\n",
        "\n",
        "jobs = ['Executive Producer', 'Producer', 'Director', 'Screenplay', 'Author']\n",
        "train['crew'] = train['crew'].apply(lambda x: _get_first_crew_member_per_job(x, jobs))\n",
        "\n",
        "crew = list()\n",
        "for job in jobs:\n",
        "    crew.extend(list(train['crew'].apply(lambda x: x.get(job, '<no crew>'))))\n",
        "\n",
        "x = pd.Series(crew).value_counts()\n",
        "print(x)"
      ],
      "execution_count": null,
      "outputs": [
        {
          "output_type": "stream",
          "text": [
            "<no crew>           10150\n",
            "Bob Weinstein          84\n",
            "Steven Spielberg       65\n",
            "Clint Eastwood         48\n",
            "Tim Bevan              47\n",
            "                    ...  \n",
            "Al Stump                1\n",
            "Tara Reid               1\n",
            "Daniele Cesarano        1\n",
            "Xan Cassavetes          1\n",
            "Joseph Stinson          1\n",
            "Length: 7012, dtype: int64\n"
          ],
          "name": "stdout"
        }
      ]
    }
  ]
}